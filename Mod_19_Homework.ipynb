{
 "cells": [
  {
   "cell_type": "markdown",
   "metadata": {},
   "source": [
    "CryptoClustering. Do not add this homework to an existing repository.\n",
    "Module 19 Challenge filesLinks to an external site.\n",
    "\n",
    "Instructions\n",
    "Rename the Crypto_Clustering_starter_code.ipynb file as Crypto_Clustering.ipynb.\n",
    "Get the summary statistics and plot the data to see what the data looks like before proceeding.\n",
    "\n",
    "Prepare the Data\n",
    "Use the StandardScaler() module from scikit-learn to normalize the data from the CSV file.\n",
    "\n",
    "Create a DataFrame with the scaled data and set the \"coin_id\" index from the original DataFrame as the index for the new DataFrame.\n",
    "\n",
    "The first five rows of the scaled DataFrame should appear as follows:\n",
    "\n",
    "The first five rows of the scaled DataFrame\n",
    "\n",
    "Find the Best Value for k Using the Original Scaled DataFrame\n",
    "Use the elbow method to find the best value for k using the following steps:\n",
    "\n",
    "Create a list with the number of k values from 1 to 11.\n",
    "Create an empty list to store the inertia values.\n",
    "Create a for loop to compute the inertia with each possible value of k.\n",
    "Create a dictionary with the data to plot the elbow curve.\n",
    "Plot a line chart with all the inertia values computed with the different values of k to visually identify the optimal value for k.\n",
    "Answer the following question in your notebook: What is the best value for k?\n",
    "Cluster Cryptocurrencies with K-means Using the Original Scaled Data\n",
    "Use the following steps to cluster the cryptocurrencies for the best value for k on the original scaled data:\n",
    "\n",
    "Initialize the K-means model with the best value for k.\n",
    "Fit the K-means model using the original scaled DataFrame.\n",
    "Predict the clusters to group the cryptocurrencies using the original scaled DataFrame.\n",
    "Create a copy of the original data and add a new column with the predicted clusters.\n",
    "Create a scatter plot using hvPlot as follows:\n",
    "Set the x-axis as \"PC1\" and the y-axis as \"PC2\".\n",
    "Color the graph points with the labels found using K-means.\n",
    "Add the \"coin_id\" column in the hover_cols parameter to identify the cryptocurrency represented by each data point.\n",
    "Optimize Clusters with Principal Component Analysis\n",
    "Using the original scaled DataFrame, perform a PCA and reduce the features to three principal components.\n",
    "\n",
    "Retrieve the explained variance to determine how much information can be attributed to each principal component and then answer the following question in your notebook:\n",
    "\n",
    "What is the total explained variance of the three principal components?\n",
    "Create a new DataFrame with the PCA data and set the \"coin_id\" index from the original DataFrame as the index for the new DataFrame.\n",
    "\n",
    "The first five rows of the PCA DataFrame should appear as follows:\n",
    "\n",
    "The first five rows of the PCA DataFrame\n",
    "\n",
    "Find the Best Value for k Using the PCA Data\n",
    "Use the elbow method on the PCA data to find the best value for k using the following steps:\n",
    "\n",
    "Create a list with the number of k-values from 1 to 11.\n",
    "Create an empty list to store the inertia values.\n",
    "Create a for loop to compute the inertia with each possible value of k.\n",
    "Create a dictionary with the data to plot the Elbow curve.\n",
    "Plot a line chart with all the inertia values computed with the different values of k to visually identify the optimal value for k.\n",
    "Answer the following question in your notebook:\n",
    "What is the best value for k when using the PCA data?\n",
    "Does it differ from the best k value found using the original data?\n",
    "Cluster Cryptocurrencies with K-means Using the PCA Data\n",
    "Use the following steps to cluster the cryptocurrencies for the best value for k on the PCA data:\n",
    "\n",
    "Initialize the K-means model with the best value for k.\n",
    "Fit the K-means model using the PCA data.\n",
    "Predict the clusters to group the cryptocurrencies using the PCA data.\n",
    "Create a copy of the DataFrame with the PCA data and add a new column to store the predicted clusters.\n",
    "Create a scatter plot using hvPlot as follows:\n",
    "Set the x-axis as \"price_change_percentage_24h\" and the y-axis as \"price_change_percentage_7d\".\n",
    "Color the graph points with the labels found using K-means.\n",
    "Add the \"coin_id\" column in the hover_cols parameter to identify the cryptocurrency represented by each data point.\n",
    "Answer the following question:\n",
    "What is the impact of using fewer features to cluster the data using K-Means?"
   ]
  },
  {
   "cell_type": "markdown",
   "metadata": {},
   "source": [
    "## Part 1: Create a Pandas DataFrame"
   ]
  },
  {
   "cell_type": "code",
   "execution_count": 2,
   "metadata": {},
   "outputs": [
    {
     "data": {
      "text/html": [
       "<div>\n",
       "<style scoped>\n",
       "    .dataframe tbody tr th:only-of-type {\n",
       "        vertical-align: middle;\n",
       "    }\n",
       "\n",
       "    .dataframe tbody tr th {\n",
       "        vertical-align: top;\n",
       "    }\n",
       "\n",
       "    .dataframe thead th {\n",
       "        text-align: right;\n",
       "    }\n",
       "</style>\n",
       "<table border=\"1\" class=\"dataframe\">\n",
       "  <thead>\n",
       "    <tr style=\"text-align: right;\">\n",
       "      <th></th>\n",
       "      <th>feature_1</th>\n",
       "      <th>feature_2</th>\n",
       "      <th>feature_3</th>\n",
       "      <th>feature_4</th>\n",
       "      <th>feature_5</th>\n",
       "      <th>feature_6</th>\n",
       "      <th>feature_7</th>\n",
       "      <th>feature_8</th>\n",
       "      <th>feature_9</th>\n",
       "      <th>feature_10</th>\n",
       "    </tr>\n",
       "  </thead>\n",
       "  <tbody>\n",
       "    <tr>\n",
       "      <th>0</th>\n",
       "      <td>1.148534</td>\n",
       "      <td>4.606077</td>\n",
       "      <td>2.699069</td>\n",
       "      <td>-2.661824</td>\n",
       "      <td>1.526433</td>\n",
       "      <td>1.236671</td>\n",
       "      <td>0.211421</td>\n",
       "      <td>1.482896</td>\n",
       "      <td>-4.445627</td>\n",
       "      <td>-1.936831</td>\n",
       "    </tr>\n",
       "    <tr>\n",
       "      <th>1</th>\n",
       "      <td>-1.149410</td>\n",
       "      <td>-1.650549</td>\n",
       "      <td>2.530167</td>\n",
       "      <td>-3.227088</td>\n",
       "      <td>0.572138</td>\n",
       "      <td>4.162600</td>\n",
       "      <td>-0.291679</td>\n",
       "      <td>-1.237575</td>\n",
       "      <td>3.604765</td>\n",
       "      <td>-1.635689</td>\n",
       "    </tr>\n",
       "    <tr>\n",
       "      <th>2</th>\n",
       "      <td>0.332427</td>\n",
       "      <td>-0.887985</td>\n",
       "      <td>-0.309216</td>\n",
       "      <td>0.399891</td>\n",
       "      <td>0.828492</td>\n",
       "      <td>3.641945</td>\n",
       "      <td>-0.916946</td>\n",
       "      <td>-1.978024</td>\n",
       "      <td>1.056772</td>\n",
       "      <td>-1.882747</td>\n",
       "    </tr>\n",
       "    <tr>\n",
       "      <th>3</th>\n",
       "      <td>2.245599</td>\n",
       "      <td>3.826309</td>\n",
       "      <td>0.264039</td>\n",
       "      <td>0.095471</td>\n",
       "      <td>1.984380</td>\n",
       "      <td>0.373991</td>\n",
       "      <td>-0.280279</td>\n",
       "      <td>1.602786</td>\n",
       "      <td>-5.993331</td>\n",
       "      <td>-2.258925</td>\n",
       "    </tr>\n",
       "    <tr>\n",
       "      <th>4</th>\n",
       "      <td>0.705503</td>\n",
       "      <td>-1.312329</td>\n",
       "      <td>0.895406</td>\n",
       "      <td>-0.405408</td>\n",
       "      <td>1.116187</td>\n",
       "      <td>3.699562</td>\n",
       "      <td>-1.427985</td>\n",
       "      <td>-1.494409</td>\n",
       "      <td>1.156908</td>\n",
       "      <td>-1.434964</td>\n",
       "    </tr>\n",
       "  </tbody>\n",
       "</table>\n",
       "</div>"
      ],
      "text/plain": [
       "   feature_1  feature_2  feature_3  feature_4  feature_5  feature_6  \\\n",
       "0   1.148534   4.606077   2.699069  -2.661824   1.526433   1.236671   \n",
       "1  -1.149410  -1.650549   2.530167  -3.227088   0.572138   4.162600   \n",
       "2   0.332427  -0.887985  -0.309216   0.399891   0.828492   3.641945   \n",
       "3   2.245599   3.826309   0.264039   0.095471   1.984380   0.373991   \n",
       "4   0.705503  -1.312329   0.895406  -0.405408   1.116187   3.699562   \n",
       "\n",
       "   feature_7  feature_8  feature_9  feature_10  \n",
       "0   0.211421   1.482896  -4.445627   -1.936831  \n",
       "1  -0.291679  -1.237575   3.604765   -1.635689  \n",
       "2  -0.916946  -1.978024   1.056772   -1.882747  \n",
       "3  -0.280279   1.602786  -5.993331   -2.258925  \n",
       "4  -1.427985  -1.494409   1.156908   -1.434964  "
      ]
     },
     "execution_count": 2,
     "metadata": {},
     "output_type": "execute_result"
    }
   ],
   "source": [
    "# Set the file path\n",
    "file_path = Path(\"../Resources/customers.csv\")\n",
    "\n",
    "# Read the csv file into a pandas DataFrame\n",
    "customers_df = pd.read_csv(file_path)\n",
    "\n",
    "# Review the DataFrame\n",
    "customers_df.head()"
   ]
  },
  {
   "cell_type": "code",
   "execution_count": 3,
   "metadata": {},
   "outputs": [
    {
     "name": "stdout",
     "output_type": "stream",
     "text": [
      "<class 'pandas.core.frame.DataFrame'>\n",
      "RangeIndex: 1000 entries, 0 to 999\n",
      "Data columns (total 10 columns):\n",
      " #   Column      Non-Null Count  Dtype  \n",
      "---  ------      --------------  -----  \n",
      " 0   feature_1   1000 non-null   float64\n",
      " 1   feature_2   1000 non-null   float64\n",
      " 2   feature_3   1000 non-null   float64\n",
      " 3   feature_4   1000 non-null   float64\n",
      " 4   feature_5   1000 non-null   float64\n",
      " 5   feature_6   1000 non-null   float64\n",
      " 6   feature_7   1000 non-null   float64\n",
      " 7   feature_8   1000 non-null   float64\n",
      " 8   feature_9   1000 non-null   float64\n",
      " 9   feature_10  1000 non-null   float64\n",
      "dtypes: float64(10)\n",
      "memory usage: 78.2 KB\n"
     ]
    }
   ],
   "source": [
    "# Use the \"info()\" Pandas function to validate data types and null values\n",
    "customers_df.info()"
   ]
  },
  {
   "cell_type": "code",
   "execution_count": 4,
   "metadata": {},
   "outputs": [
    {
     "data": {
      "text/html": [
       "<div>\n",
       "<style scoped>\n",
       "    .dataframe tbody tr th:only-of-type {\n",
       "        vertical-align: middle;\n",
       "    }\n",
       "\n",
       "    .dataframe tbody tr th {\n",
       "        vertical-align: top;\n",
       "    }\n",
       "\n",
       "    .dataframe thead th {\n",
       "        text-align: right;\n",
       "    }\n",
       "</style>\n",
       "<table border=\"1\" class=\"dataframe\">\n",
       "  <thead>\n",
       "    <tr style=\"text-align: right;\">\n",
       "      <th></th>\n",
       "      <th>feature_1</th>\n",
       "      <th>feature_2</th>\n",
       "      <th>feature_3</th>\n",
       "      <th>feature_4</th>\n",
       "      <th>feature_5</th>\n",
       "      <th>feature_6</th>\n",
       "      <th>feature_7</th>\n",
       "      <th>feature_8</th>\n",
       "      <th>feature_9</th>\n",
       "      <th>feature_10</th>\n",
       "    </tr>\n",
       "  </thead>\n",
       "  <tbody>\n",
       "    <tr>\n",
       "      <th>count</th>\n",
       "      <td>1000.000000</td>\n",
       "      <td>1000.000000</td>\n",
       "      <td>1000.000000</td>\n",
       "      <td>1000.000000</td>\n",
       "      <td>1000.000000</td>\n",
       "      <td>1000.000000</td>\n",
       "      <td>1000.000000</td>\n",
       "      <td>1000.000000</td>\n",
       "      <td>1000.000000</td>\n",
       "      <td>1000.000000</td>\n",
       "    </tr>\n",
       "    <tr>\n",
       "      <th>mean</th>\n",
       "      <td>-0.022428</td>\n",
       "      <td>0.805748</td>\n",
       "      <td>1.942896</td>\n",
       "      <td>-2.364030</td>\n",
       "      <td>0.854980</td>\n",
       "      <td>1.232422</td>\n",
       "      <td>0.146269</td>\n",
       "      <td>0.833486</td>\n",
       "      <td>-0.534320</td>\n",
       "      <td>-1.219393</td>\n",
       "    </tr>\n",
       "    <tr>\n",
       "      <th>std</th>\n",
       "      <td>2.382021</td>\n",
       "      <td>2.335796</td>\n",
       "      <td>1.411307</td>\n",
       "      <td>1.716566</td>\n",
       "      <td>1.742986</td>\n",
       "      <td>3.250231</td>\n",
       "      <td>1.635576</td>\n",
       "      <td>2.039563</td>\n",
       "      <td>4.211831</td>\n",
       "      <td>1.979172</td>\n",
       "    </tr>\n",
       "    <tr>\n",
       "      <th>min</th>\n",
       "      <td>-6.259471</td>\n",
       "      <td>-4.649286</td>\n",
       "      <td>-2.894995</td>\n",
       "      <td>-8.735778</td>\n",
       "      <td>-4.641509</td>\n",
       "      <td>-9.111470</td>\n",
       "      <td>-4.260013</td>\n",
       "      <td>-4.911903</td>\n",
       "      <td>-9.522425</td>\n",
       "      <td>-6.083462</td>\n",
       "    </tr>\n",
       "    <tr>\n",
       "      <th>25%</th>\n",
       "      <td>-2.091657</td>\n",
       "      <td>-1.214774</td>\n",
       "      <td>1.026128</td>\n",
       "      <td>-3.438149</td>\n",
       "      <td>-0.235310</td>\n",
       "      <td>-0.333722</td>\n",
       "      <td>-0.967569</td>\n",
       "      <td>-0.894817</td>\n",
       "      <td>-4.129561</td>\n",
       "      <td>-2.505366</td>\n",
       "    </tr>\n",
       "    <tr>\n",
       "      <th>50%</th>\n",
       "      <td>0.161670</td>\n",
       "      <td>1.096439</td>\n",
       "      <td>1.905107</td>\n",
       "      <td>-2.437602</td>\n",
       "      <td>1.084556</td>\n",
       "      <td>1.367371</td>\n",
       "      <td>-0.222299</td>\n",
       "      <td>1.519069</td>\n",
       "      <td>-0.536849</td>\n",
       "      <td>-1.706372</td>\n",
       "    </tr>\n",
       "    <tr>\n",
       "      <th>75%</th>\n",
       "      <td>2.030005</td>\n",
       "      <td>2.513648</td>\n",
       "      <td>2.851613</td>\n",
       "      <td>-1.229730</td>\n",
       "      <td>2.287268</td>\n",
       "      <td>3.637304</td>\n",
       "      <td>1.061269</td>\n",
       "      <td>2.298862</td>\n",
       "      <td>2.626514</td>\n",
       "      <td>-0.553571</td>\n",
       "    </tr>\n",
       "    <tr>\n",
       "      <th>max</th>\n",
       "      <td>6.275723</td>\n",
       "      <td>7.955158</td>\n",
       "      <td>5.897102</td>\n",
       "      <td>4.296552</td>\n",
       "      <td>4.741350</td>\n",
       "      <td>8.705423</td>\n",
       "      <td>7.123969</td>\n",
       "      <td>5.789222</td>\n",
       "      <td>10.047819</td>\n",
       "      <td>5.413623</td>\n",
       "    </tr>\n",
       "  </tbody>\n",
       "</table>\n",
       "</div>"
      ],
      "text/plain": [
       "         feature_1    feature_2    feature_3    feature_4    feature_5  \\\n",
       "count  1000.000000  1000.000000  1000.000000  1000.000000  1000.000000   \n",
       "mean     -0.022428     0.805748     1.942896    -2.364030     0.854980   \n",
       "std       2.382021     2.335796     1.411307     1.716566     1.742986   \n",
       "min      -6.259471    -4.649286    -2.894995    -8.735778    -4.641509   \n",
       "25%      -2.091657    -1.214774     1.026128    -3.438149    -0.235310   \n",
       "50%       0.161670     1.096439     1.905107    -2.437602     1.084556   \n",
       "75%       2.030005     2.513648     2.851613    -1.229730     2.287268   \n",
       "max       6.275723     7.955158     5.897102     4.296552     4.741350   \n",
       "\n",
       "         feature_6    feature_7    feature_8    feature_9   feature_10  \n",
       "count  1000.000000  1000.000000  1000.000000  1000.000000  1000.000000  \n",
       "mean      1.232422     0.146269     0.833486    -0.534320    -1.219393  \n",
       "std       3.250231     1.635576     2.039563     4.211831     1.979172  \n",
       "min      -9.111470    -4.260013    -4.911903    -9.522425    -6.083462  \n",
       "25%      -0.333722    -0.967569    -0.894817    -4.129561    -2.505366  \n",
       "50%       1.367371    -0.222299     1.519069    -0.536849    -1.706372  \n",
       "75%       3.637304     1.061269     2.298862     2.626514    -0.553571  \n",
       "max       8.705423     7.123969     5.789222    10.047819     5.413623  "
      ]
     },
     "execution_count": 4,
     "metadata": {},
     "output_type": "execute_result"
    }
   ],
   "source": [
    "# Use the Pandas \"describe()\" function to compute summary statistics\n",
    "customers_df.describe()"
   ]
  },
  {
   "cell_type": "markdown",
   "metadata": {},
   "source": [
    "## Part 2. Use the Elbow Method to determine the optimal number of clusters for KMeans."
   ]
  },
  {
   "cell_type": "code",
   "execution_count": 5,
   "metadata": {},
   "outputs": [],
   "source": [
    "# Import the KMeans, Birch, and AgglomerativeClustering modules from SKLearn\n",
    "from sklearn.cluster import KMeans, AgglomerativeClustering, Birch"
   ]
  },
  {
   "cell_type": "code",
   "execution_count": 6,
   "metadata": {},
   "outputs": [],
   "source": [
    "# Create a list to store inertia values and the values of k\n",
    "inertia = []\n",
    "\n",
    "# Create a list to set the range of k values to test\n",
    "k = list(range(1, 11))"
   ]
  },
  {
   "cell_type": "code",
   "execution_count": 7,
   "metadata": {},
   "outputs": [],
   "source": [
    "# Create a for loop where each value of k is evaluated using the K-means algorithm\n",
    "# Fit the model using the \"customers_df\" DataFrame\n",
    "# Append the value of the computed inertia from the `inertia_` attribute of the KMeans model instance\n",
    "for i in k:\n",
    "    k_model = KMeans(n_clusters=i, random_state=0)\n",
    "    k_model.fit(customers_df)\n",
    "    inertia.append(k_model.inertia_)"
   ]
  },
  {
   "cell_type": "code",
   "execution_count": 8,
   "metadata": {},
   "outputs": [
    {
     "data": {
      "text/html": [
       "<div>\n",
       "<style scoped>\n",
       "    .dataframe tbody tr th:only-of-type {\n",
       "        vertical-align: middle;\n",
       "    }\n",
       "\n",
       "    .dataframe tbody tr th {\n",
       "        vertical-align: top;\n",
       "    }\n",
       "\n",
       "    .dataframe thead th {\n",
       "        text-align: right;\n",
       "    }\n",
       "</style>\n",
       "<table border=\"1\" class=\"dataframe\">\n",
       "  <thead>\n",
       "    <tr style=\"text-align: right;\">\n",
       "      <th></th>\n",
       "      <th>k</th>\n",
       "      <th>inertia</th>\n",
       "    </tr>\n",
       "  </thead>\n",
       "  <tbody>\n",
       "    <tr>\n",
       "      <th>0</th>\n",
       "      <td>1</td>\n",
       "      <td>58103.759171</td>\n",
       "    </tr>\n",
       "    <tr>\n",
       "      <th>1</th>\n",
       "      <td>2</td>\n",
       "      <td>32183.537923</td>\n",
       "    </tr>\n",
       "    <tr>\n",
       "      <th>2</th>\n",
       "      <td>3</td>\n",
       "      <td>17080.936423</td>\n",
       "    </tr>\n",
       "    <tr>\n",
       "      <th>3</th>\n",
       "      <td>4</td>\n",
       "      <td>14890.068176</td>\n",
       "    </tr>\n",
       "    <tr>\n",
       "      <th>4</th>\n",
       "      <td>5</td>\n",
       "      <td>12816.235532</td>\n",
       "    </tr>\n",
       "  </tbody>\n",
       "</table>\n",
       "</div>"
      ],
      "text/plain": [
       "   k       inertia\n",
       "0  1  58103.759171\n",
       "1  2  32183.537923\n",
       "2  3  17080.936423\n",
       "3  4  14890.068176\n",
       "4  5  12816.235532"
      ]
     },
     "execution_count": 8,
     "metadata": {},
     "output_type": "execute_result"
    }
   ],
   "source": [
    "# Define a DataFrame to hold the values for k and the corresponding inertia\n",
    "elbow_data = {\"k\": k, \"inertia\": inertia}\n",
    "df_elbow = pd.DataFrame(elbow_data)\n",
    "\n",
    "# Review the DataFrame\n",
    "df_elbow.head()"
   ]
  },
  {
   "cell_type": "code",
   "execution_count": 9,
   "metadata": {},
   "outputs": [
    {
     "data": {},
     "metadata": {},
     "output_type": "display_data"
    },
    {
     "data": {
      "application/vnd.holoviews_exec.v0+json": "",
      "text/html": [
       "<div id='1002'>\n",
       "  <div class=\"bk-root\" id=\"f56a51cd-b1c4-4126-bec2-21674a309cd0\" data-root-id=\"1002\"></div>\n",
       "</div>\n",
       "<script type=\"application/javascript\">(function(root) {\n",
       "  function embed_document(root) {\n",
       "    var docs_json = {\"55abc143-8cc4-4705-97cd-eeca83582999\":{\"defs\":[{\"extends\":null,\"module\":null,\"name\":\"ReactiveHTML1\",\"overrides\":[],\"properties\":[]},{\"extends\":null,\"module\":null,\"name\":\"FlexBox1\",\"overrides\":[],\"properties\":[{\"default\":\"flex-start\",\"kind\":null,\"name\":\"align_content\"},{\"default\":\"flex-start\",\"kind\":null,\"name\":\"align_items\"},{\"default\":\"row\",\"kind\":null,\"name\":\"flex_direction\"},{\"default\":\"wrap\",\"kind\":null,\"name\":\"flex_wrap\"},{\"default\":\"flex-start\",\"kind\":null,\"name\":\"justify_content\"}]},{\"extends\":null,\"module\":null,\"name\":\"GridStack1\",\"overrides\":[],\"properties\":[{\"default\":\"warn\",\"kind\":null,\"name\":\"mode\"},{\"default\":null,\"kind\":null,\"name\":\"ncols\"},{\"default\":null,\"kind\":null,\"name\":\"nrows\"},{\"default\":true,\"kind\":null,\"name\":\"allow_resize\"},{\"default\":true,\"kind\":null,\"name\":\"allow_drag\"},{\"default\":[],\"kind\":null,\"name\":\"state\"}]},{\"extends\":null,\"module\":null,\"name\":\"click1\",\"overrides\":[],\"properties\":[{\"default\":\"\",\"kind\":null,\"name\":\"terminal_output\"},{\"default\":\"\",\"kind\":null,\"name\":\"debug_name\"},{\"default\":0,\"kind\":null,\"name\":\"clears\"}]},{\"extends\":null,\"module\":null,\"name\":\"NotificationAreaBase1\",\"overrides\":[],\"properties\":[{\"default\":\"bottom-right\",\"kind\":null,\"name\":\"position\"},{\"default\":0,\"kind\":null,\"name\":\"_clear\"}]},{\"extends\":null,\"module\":null,\"name\":\"NotificationArea1\",\"overrides\":[],\"properties\":[{\"default\":[],\"kind\":null,\"name\":\"notifications\"},{\"default\":\"bottom-right\",\"kind\":null,\"name\":\"position\"},{\"default\":0,\"kind\":null,\"name\":\"_clear\"},{\"default\":[{\"background\":\"#ffc107\",\"icon\":{\"className\":\"fas fa-exclamation-triangle\",\"color\":\"white\",\"tagName\":\"i\"},\"type\":\"warning\"},{\"background\":\"#007bff\",\"icon\":{\"className\":\"fas fa-info-circle\",\"color\":\"white\",\"tagName\":\"i\"},\"type\":\"info\"}],\"kind\":null,\"name\":\"types\"}]},{\"extends\":null,\"module\":null,\"name\":\"Notification\",\"overrides\":[],\"properties\":[{\"default\":null,\"kind\":null,\"name\":\"background\"},{\"default\":3000,\"kind\":null,\"name\":\"duration\"},{\"default\":null,\"kind\":null,\"name\":\"icon\"},{\"default\":\"\",\"kind\":null,\"name\":\"message\"},{\"default\":null,\"kind\":null,\"name\":\"notification_type\"},{\"default\":false,\"kind\":null,\"name\":\"_destroyed\"}]},{\"extends\":null,\"module\":null,\"name\":\"TemplateActions1\",\"overrides\":[],\"properties\":[{\"default\":0,\"kind\":null,\"name\":\"open_modal\"},{\"default\":0,\"kind\":null,\"name\":\"close_modal\"}]},{\"extends\":null,\"module\":null,\"name\":\"MaterialTemplateActions1\",\"overrides\":[],\"properties\":[{\"default\":0,\"kind\":null,\"name\":\"open_modal\"},{\"default\":0,\"kind\":null,\"name\":\"close_modal\"}]}],\"roots\":{\"references\":[{\"attributes\":{\"children\":[{\"id\":\"1006\"}],\"height\":300,\"margin\":[0,0,0,0],\"name\":\"Row00860\",\"sizing_mode\":\"fixed\",\"tags\":[\"embedded\"],\"width\":700},\"id\":\"1002\",\"type\":\"Row\"},{\"attributes\":{},\"id\":\"1052\",\"type\":\"BasicTickFormatter\"},{\"attributes\":{\"axis\":{\"id\":\"1015\"},\"coordinates\":null,\"grid_line_color\":null,\"group\":null,\"ticker\":null},\"id\":\"1018\",\"type\":\"Grid\"},{\"attributes\":{\"callback\":null,\"renderers\":[{\"id\":\"1042\"}],\"tags\":[\"hv_created\"],\"tooltips\":[[\"k\",\"@{k}\"],[\"inertia\",\"@{inertia}\"]]},\"id\":\"1005\",\"type\":\"HoverTool\"},{\"attributes\":{},\"id\":\"1064\",\"type\":\"UnionRenderers\"},{\"attributes\":{},\"id\":\"1037\",\"type\":\"Selection\"},{\"attributes\":{},\"id\":\"1048\",\"type\":\"AllLabels\"},{\"attributes\":{\"axis\":{\"id\":\"1019\"},\"coordinates\":null,\"dimension\":1,\"grid_line_color\":null,\"group\":null,\"ticker\":null},\"id\":\"1022\",\"type\":\"Grid\"},{\"attributes\":{\"line_color\":\"#30a2da\",\"line_width\":2,\"x\":{\"field\":\"k\"},\"y\":{\"field\":\"inertia\"}},\"id\":\"1039\",\"type\":\"Line\"},{\"attributes\":{},\"id\":\"1011\",\"type\":\"LinearScale\"},{\"attributes\":{\"end\":63018.37273919998,\"reset_end\":63018.37273919998,\"reset_start\":4043.009920833717,\"start\":4043.009920833717,\"tags\":[[[\"inertia\",\"inertia\",null]]]},\"id\":\"1004\",\"type\":\"Range1d\"},{\"attributes\":{},\"id\":\"1020\",\"type\":\"BasicTicker\"},{\"attributes\":{\"axis_label\":\"inertia\",\"coordinates\":null,\"formatter\":{\"id\":\"1052\"},\"group\":null,\"major_label_policy\":{\"id\":\"1053\"},\"ticker\":{\"id\":\"1020\"}},\"id\":\"1019\",\"type\":\"LinearAxis\"},{\"attributes\":{},\"id\":\"1047\",\"type\":\"BasicTickFormatter\"},{\"attributes\":{\"end\":10.0,\"reset_end\":10.0,\"reset_start\":1.0,\"start\":1.0,\"tags\":[[[\"k\",\"k\",null]]]},\"id\":\"1003\",\"type\":\"Range1d\"},{\"attributes\":{\"active_drag\":{\"id\":\"1024\"},\"active_scroll\":{\"id\":\"1025\"},\"tools\":[{\"id\":\"1005\"},{\"id\":\"1023\"},{\"id\":\"1024\"},{\"id\":\"1025\"},{\"id\":\"1026\"},{\"id\":\"1027\"}]},\"id\":\"1029\",\"type\":\"Toolbar\"},{\"attributes\":{\"line_color\":\"#30a2da\",\"line_width\":2,\"x\":{\"field\":\"k\"},\"y\":{\"field\":\"inertia\"}},\"id\":\"1044\",\"type\":\"Line\"},{\"attributes\":{\"line_alpha\":0.2,\"line_color\":\"#30a2da\",\"line_width\":2,\"x\":{\"field\":\"k\"},\"y\":{\"field\":\"inertia\"}},\"id\":\"1041\",\"type\":\"Line\"},{\"attributes\":{\"data\":{\"inertia\":{\"__ndarray__\":\"ovwgS/he7ECP4FNt4m3fQIbBW+47rtBAsYn+uQgVzUDFmuslHgjJQHGO0vNuBcdAWOQa7YIpxUDol+FOOJzDQCSGpvx/bcJAlBJ9zs9+wUA=\",\"dtype\":\"float64\",\"order\":\"little\",\"shape\":[10]},\"k\":[1,2,3,4,5,6,7,8,9,10]},\"selected\":{\"id\":\"1037\"},\"selection_policy\":{\"id\":\"1064\"}},\"id\":\"1036\",\"type\":\"ColumnDataSource\"},{\"attributes\":{\"coordinates\":null,\"data_source\":{\"id\":\"1036\"},\"glyph\":{\"id\":\"1039\"},\"group\":null,\"hover_glyph\":null,\"muted_glyph\":{\"id\":\"1041\"},\"nonselection_glyph\":{\"id\":\"1040\"},\"selection_glyph\":{\"id\":\"1044\"},\"view\":{\"id\":\"1043\"}},\"id\":\"1042\",\"type\":\"GlyphRenderer\"},{\"attributes\":{\"ticks\":[1,2,3,4,5,6,7,8,9,10]},\"id\":\"1045\",\"type\":\"FixedTicker\"},{\"attributes\":{},\"id\":\"1023\",\"type\":\"SaveTool\"},{\"attributes\":{\"below\":[{\"id\":\"1015\"}],\"center\":[{\"id\":\"1018\"},{\"id\":\"1022\"}],\"height\":300,\"left\":[{\"id\":\"1019\"}],\"margin\":[5,5,5,5],\"min_border_bottom\":10,\"min_border_left\":10,\"min_border_right\":10,\"min_border_top\":10,\"renderers\":[{\"id\":\"1042\"}],\"sizing_mode\":\"fixed\",\"title\":{\"id\":\"1007\"},\"toolbar\":{\"id\":\"1029\"},\"width\":700,\"x_range\":{\"id\":\"1003\"},\"x_scale\":{\"id\":\"1011\"},\"y_range\":{\"id\":\"1004\"},\"y_scale\":{\"id\":\"1013\"}},\"id\":\"1006\",\"subtype\":\"Figure\",\"type\":\"Plot\"},{\"attributes\":{},\"id\":\"1024\",\"type\":\"PanTool\"},{\"attributes\":{},\"id\":\"1053\",\"type\":\"AllLabels\"},{\"attributes\":{},\"id\":\"1025\",\"type\":\"WheelZoomTool\"},{\"attributes\":{\"overlay\":{\"id\":\"1028\"}},\"id\":\"1026\",\"type\":\"BoxZoomTool\"},{\"attributes\":{},\"id\":\"1013\",\"type\":\"LinearScale\"},{\"attributes\":{\"source\":{\"id\":\"1036\"}},\"id\":\"1043\",\"type\":\"CDSView\"},{\"attributes\":{\"coordinates\":null,\"group\":null,\"text\":\"Elbow Curve\",\"text_color\":\"black\",\"text_font_size\":\"12pt\"},\"id\":\"1007\",\"type\":\"Title\"},{\"attributes\":{\"line_alpha\":0.1,\"line_color\":\"#30a2da\",\"line_width\":2,\"x\":{\"field\":\"k\"},\"y\":{\"field\":\"inertia\"}},\"id\":\"1040\",\"type\":\"Line\"},{\"attributes\":{},\"id\":\"1027\",\"type\":\"ResetTool\"},{\"attributes\":{\"axis_label\":\"k\",\"coordinates\":null,\"formatter\":{\"id\":\"1047\"},\"group\":null,\"major_label_policy\":{\"id\":\"1048\"},\"ticker\":{\"id\":\"1045\"}},\"id\":\"1015\",\"type\":\"LinearAxis\"},{\"attributes\":{\"bottom_units\":\"screen\",\"coordinates\":null,\"fill_alpha\":0.5,\"fill_color\":\"lightgrey\",\"group\":null,\"left_units\":\"screen\",\"level\":\"overlay\",\"line_alpha\":1.0,\"line_color\":\"black\",\"line_dash\":[4,4],\"line_width\":2,\"right_units\":\"screen\",\"syncable\":false,\"top_units\":\"screen\"},\"id\":\"1028\",\"type\":\"BoxAnnotation\"}],\"root_ids\":[\"1002\"]},\"title\":\"Bokeh Application\",\"version\":\"2.4.3\"}};\n",
       "    var render_items = [{\"docid\":\"55abc143-8cc4-4705-97cd-eeca83582999\",\"root_ids\":[\"1002\"],\"roots\":{\"1002\":\"f56a51cd-b1c4-4126-bec2-21674a309cd0\"}}];\n",
       "    root.Bokeh.embed.embed_items_notebook(docs_json, render_items);\n",
       "    for (const render_item of render_items) {\n",
       "      for (const root_id of render_item.root_ids) {\n",
       "\tconst id_el = document.getElementById(root_id)\n",
       "\tif (id_el.children.length && (id_el.children[0].className === 'bk-root')) {\n",
       "\t  const root_el = id_el.children[0]\n",
       "\t  root_el.id = root_el.id + '-rendered'\n",
       "\t}\n",
       "      }\n",
       "    }\n",
       "  }\n",
       "  if (root.Bokeh !== undefined && root.Bokeh.Panel !== undefined) {\n",
       "    embed_document(root);\n",
       "  } else {\n",
       "    var attempts = 0;\n",
       "    var timer = setInterval(function(root) {\n",
       "      if (root.Bokeh !== undefined && root.Bokeh.Panel !== undefined) {\n",
       "        clearInterval(timer);\n",
       "        embed_document(root);\n",
       "      } else if (document.readyState == \"complete\") {\n",
       "        attempts++;\n",
       "        if (attempts > 200) {\n",
       "          clearInterval(timer);\n",
       "          console.log(\"Bokeh: ERROR: Unable to run BokehJS code because BokehJS library is missing\");\n",
       "        }\n",
       "      }\n",
       "    }, 25, root)\n",
       "  }\n",
       "})(window);</script>"
      ],
      "text/plain": [
       ":Curve   [k]   (inertia)"
      ]
     },
     "execution_count": 9,
     "metadata": {
      "application/vnd.holoviews_exec.v0+json": {
       "id": "1002"
      }
     },
     "output_type": "execute_result"
    }
   ],
   "source": [
    "# Plot the DataFrame to identify the optimal value for k\n",
    "df_elbow.hvplot.line(\n",
    "    x=\"k\", \n",
    "    y=\"inertia\", \n",
    "    title=\"Elbow Curve\", \n",
    "    xticks=k\n",
    ")"
   ]
  },
  {
   "cell_type": "markdown",
   "metadata": {},
   "source": [
    "## Part 3: Segment the data with K-means using the optimal number of clusters"
   ]
  },
  {
   "cell_type": "code",
   "execution_count": 10,
   "metadata": {},
   "outputs": [],
   "source": [
    "# Define the model with optimal number of clusters\n",
    "model = KMeans(n_clusters=3, random_state=0)\n",
    "\n",
    "# Fit the model\n",
    "model.fit(customers_df)\n",
    "\n",
    "# Make predictions\n",
    "kmeans_predictions = model.predict(customers_df)"
   ]
  },
  {
   "cell_type": "markdown",
   "metadata": {},
   "source": [
    "## Part 4. Cluster the data using AgglomerativeClustering and Birch\n",
    "\n",
    "Using your optimal number of clusters found above, additionally estimate clusters by using both `AgglomerativeClustering` and `Birch`. Save each of these models and their results for comparison."
   ]
  },
  {
   "cell_type": "code",
   "execution_count": 11,
   "metadata": {},
   "outputs": [],
   "source": [
    "agglo_model = AgglomerativeClustering(n_clusters=3)\n",
    "agglo_predictions = agglo_model.fit_predict(customers_df)"
   ]
  },
  {
   "cell_type": "code",
   "execution_count": 12,
   "metadata": {},
   "outputs": [],
   "source": [
    "birch_model = Birch(n_clusters=3)\n",
    "birch_model.fit(customers_df)\n",
    "birch_predictions = birch_model.predict(customers_df)"
   ]
  },
  {
   "cell_type": "code",
   "execution_count": 13,
   "metadata": {},
   "outputs": [
    {
     "data": {
      "text/plain": [
       "array([0, 1, 0, 0, 0, 0, 1, 0, 1, 1])"
      ]
     },
     "execution_count": 13,
     "metadata": {},
     "output_type": "execute_result"
    }
   ],
   "source": [
    "# Previewing the predicted customer classifcations for Birch\n",
    "birch_predictions[-10:]"
   ]
  },
  {
   "cell_type": "markdown",
   "metadata": {},
   "source": [
    "## Part 5. Compare the cluster results from using Kmeans, AgglomerativeClustering, Birch"
   ]
  },
  {
   "cell_type": "code",
   "execution_count": 14,
   "metadata": {},
   "outputs": [
    {
     "data": {
      "text/html": [
       "<div>\n",
       "<style scoped>\n",
       "    .dataframe tbody tr th:only-of-type {\n",
       "        vertical-align: middle;\n",
       "    }\n",
       "\n",
       "    .dataframe tbody tr th {\n",
       "        vertical-align: top;\n",
       "    }\n",
       "\n",
       "    .dataframe thead th {\n",
       "        text-align: right;\n",
       "    }\n",
       "</style>\n",
       "<table border=\"1\" class=\"dataframe\">\n",
       "  <thead>\n",
       "    <tr style=\"text-align: right;\">\n",
       "      <th></th>\n",
       "      <th>kmeans-segments</th>\n",
       "      <th>agglomerative-segments</th>\n",
       "      <th>birch-segments</th>\n",
       "    </tr>\n",
       "  </thead>\n",
       "  <tbody>\n",
       "    <tr>\n",
       "      <th>0</th>\n",
       "      <td>1</td>\n",
       "      <td>1</td>\n",
       "      <td>0</td>\n",
       "    </tr>\n",
       "    <tr>\n",
       "      <th>1</th>\n",
       "      <td>0</td>\n",
       "      <td>0</td>\n",
       "      <td>1</td>\n",
       "    </tr>\n",
       "    <tr>\n",
       "      <th>2</th>\n",
       "      <td>0</td>\n",
       "      <td>0</td>\n",
       "      <td>1</td>\n",
       "    </tr>\n",
       "  </tbody>\n",
       "</table>\n",
       "</div>"
      ],
      "text/plain": [
       "   kmeans-segments  agglomerative-segments  birch-segments\n",
       "0                1                       1               0\n",
       "1                0                       0               1\n",
       "2                0                       0               1"
      ]
     },
     "execution_count": 14,
     "metadata": {},
     "output_type": "execute_result"
    }
   ],
   "source": [
    "# Create a copy of the customers_df DataFrame\n",
    "customers_predictions_df = customers_df.copy()\n",
    "# Add class columns with the labels to the new DataFrame\n",
    "customers_predictions_df[\"kmeans-segments\"] = kmeans_predictions\n",
    "customers_predictions_df[\"agglomerative-segments\"] = agglo_predictions\n",
    "customers_predictions_df[\"birch-segments\"] = birch_predictions\n",
    "customers_predictions_df[['kmeans-segments','agglomerative-segments', 'birch-segments']].head(3)"
   ]
  },
  {
   "cell_type": "code",
   "execution_count": 15,
   "metadata": {},
   "outputs": [
    {
     "data": {},
     "metadata": {},
     "output_type": "display_data"
    },
    {
     "data": {
      "application/vnd.holoviews_exec.v0+json": "",
      "text/html": [
       "<div id='1113'>\n",
       "  <div class=\"bk-root\" id=\"69ca221a-a4b1-4473-8fdf-042b9fe74381\" data-root-id=\"1113\"></div>\n",
       "</div>\n",
       "<script type=\"application/javascript\">(function(root) {\n",
       "  function embed_document(root) {\n",
       "    var docs_json = {\"cb87a571-180e-4395-810f-2b5849053e77\":{\"defs\":[{\"extends\":null,\"module\":null,\"name\":\"ReactiveHTML1\",\"overrides\":[],\"properties\":[]},{\"extends\":null,\"module\":null,\"name\":\"FlexBox1\",\"overrides\":[],\"properties\":[{\"default\":\"flex-start\",\"kind\":null,\"name\":\"align_content\"},{\"default\":\"flex-start\",\"kind\":null,\"name\":\"align_items\"},{\"default\":\"row\",\"kind\":null,\"name\":\"flex_direction\"},{\"default\":\"wrap\",\"kind\":null,\"name\":\"flex_wrap\"},{\"default\":\"flex-start\",\"kind\":null,\"name\":\"justify_content\"}]},{\"extends\":null,\"module\":null,\"name\":\"GridStack1\",\"overrides\":[],\"properties\":[{\"default\":\"warn\",\"kind\":null,\"name\":\"mode\"},{\"default\":null,\"kind\":null,\"name\":\"ncols\"},{\"default\":null,\"kind\":null,\"name\":\"nrows\"},{\"default\":true,\"kind\":null,\"name\":\"allow_resize\"},{\"default\":true,\"kind\":null,\"name\":\"allow_drag\"},{\"default\":[],\"kind\":null,\"name\":\"state\"}]},{\"extends\":null,\"module\":null,\"name\":\"click1\",\"overrides\":[],\"properties\":[{\"default\":\"\",\"kind\":null,\"name\":\"terminal_output\"},{\"default\":\"\",\"kind\":null,\"name\":\"debug_name\"},{\"default\":0,\"kind\":null,\"name\":\"clears\"}]},{\"extends\":null,\"module\":null,\"name\":\"NotificationAreaBase1\",\"overrides\":[],\"properties\":[{\"default\":\"bottom-right\",\"kind\":null,\"name\":\"position\"},{\"default\":0,\"kind\":null,\"name\":\"_clear\"}]},{\"extends\":null,\"module\":null,\"name\":\"NotificationArea1\",\"overrides\":[],\"properties\":[{\"default\":[],\"kind\":null,\"name\":\"notifications\"},{\"default\":\"bottom-right\",\"kind\":null,\"name\":\"position\"},{\"default\":0,\"kind\":null,\"name\":\"_clear\"},{\"default\":[{\"background\":\"#ffc107\",\"icon\":{\"className\":\"fas fa-exclamation-triangle\",\"color\":\"white\",\"tagName\":\"i\"},\"type\":\"warning\"},{\"background\":\"#007bff\",\"icon\":{\"className\":\"fas fa-info-circle\",\"color\":\"white\",\"tagName\":\"i\"},\"type\":\"info\"}],\"kind\":null,\"name\":\"types\"}]},{\"extends\":null,\"module\":null,\"name\":\"Notification\",\"overrides\":[],\"properties\":[{\"default\":null,\"kind\":null,\"name\":\"background\"},{\"default\":3000,\"kind\":null,\"name\":\"duration\"},{\"default\":null,\"kind\":null,\"name\":\"icon\"},{\"default\":\"\",\"kind\":null,\"name\":\"message\"},{\"default\":null,\"kind\":null,\"name\":\"notification_type\"},{\"default\":false,\"kind\":null,\"name\":\"_destroyed\"}]},{\"extends\":null,\"module\":null,\"name\":\"TemplateActions1\",\"overrides\":[],\"properties\":[{\"default\":0,\"kind\":null,\"name\":\"open_modal\"},{\"default\":0,\"kind\":null,\"name\":\"close_modal\"}]},{\"extends\":null,\"module\":null,\"name\":\"MaterialTemplateActions1\",\"overrides\":[],\"properties\":[{\"default\":0,\"kind\":null,\"name\":\"open_modal\"},{\"default\":0,\"kind\":null,\"name\":\"close_modal\"}]}],\"roots\":{\"references\":[{\"attributes\":{\"coordinates\":null,\"group\":null,\"text_color\":\"black\",\"text_font_size\":\"12pt\"},\"id\":\"1120\",\"type\":\"Title\"},{\"attributes\":{\"source\":{\"id\":\"1155\"}},\"id\":\"1162\",\"type\":\"CDSView\"},{\"attributes\":{\"below\":[{\"id\":\"1128\"}],\"center\":[{\"id\":\"1131\"},{\"id\":\"1135\"}],\"height\":300,\"left\":[{\"id\":\"1132\"}],\"margin\":[5,5,5,5],\"min_border_bottom\":10,\"min_border_left\":10,\"min_border_right\":10,\"min_border_top\":10,\"renderers\":[{\"id\":\"1161\"},{\"id\":\"1182\"},{\"id\":\"1204\"}],\"right\":[{\"id\":\"1173\"}],\"sizing_mode\":\"fixed\",\"title\":{\"id\":\"1120\"},\"toolbar\":{\"id\":\"1142\"},\"width\":700,\"x_range\":{\"id\":\"1114\"},\"x_scale\":{\"id\":\"1124\"},\"y_range\":{\"id\":\"1115\"},\"y_scale\":{\"id\":\"1126\"}},\"id\":\"1119\",\"subtype\":\"Figure\",\"type\":\"Plot\"},{\"attributes\":{\"fill_alpha\":{\"value\":0.2},\"fill_color\":{\"value\":\"#fc4f30\"},\"hatch_alpha\":{\"value\":0.2},\"hatch_color\":{\"value\":\"#fc4f30\"},\"line_alpha\":{\"value\":0.2},\"line_color\":{\"value\":\"#fc4f30\"},\"size\":{\"value\":5.477225575051661},\"x\":{\"field\":\"feature_1\"},\"y\":{\"field\":\"feature_2\"}},\"id\":\"1181\",\"type\":\"Scatter\"},{\"attributes\":{},\"id\":\"1140\",\"type\":\"ResetTool\"},{\"attributes\":{\"label\":{\"value\":\"2\"},\"renderers\":[{\"id\":\"1204\"}]},\"id\":\"1220\",\"type\":\"LegendItem\"},{\"attributes\":{\"callback\":null,\"renderers\":[{\"id\":\"1161\"},{\"id\":\"1182\"},{\"id\":\"1204\"}],\"tags\":[\"hv_created\"],\"tooltips\":[[\"kmeans-segments\",\"@{kmeans_hyphen_minus_segments}\"],[\"feature_1\",\"@{feature_1}\"],[\"feature_2\",\"@{feature_2}\"]]},\"id\":\"1116\",\"type\":\"HoverTool\"},{\"attributes\":{},\"id\":\"1199\",\"type\":\"Selection\"},{\"attributes\":{\"fill_alpha\":{\"value\":0.1},\"fill_color\":{\"value\":\"#fc4f30\"},\"hatch_alpha\":{\"value\":0.1},\"hatch_color\":{\"value\":\"#fc4f30\"},\"line_alpha\":{\"value\":0.1},\"line_color\":{\"value\":\"#fc4f30\"},\"size\":{\"value\":5.477225575051661},\"x\":{\"field\":\"feature_1\"},\"y\":{\"field\":\"feature_2\"}},\"id\":\"1180\",\"type\":\"Scatter\"},{\"attributes\":{\"fill_alpha\":{\"value\":0.1},\"fill_color\":{\"value\":\"#e5ae38\"},\"hatch_alpha\":{\"value\":0.1},\"hatch_color\":{\"value\":\"#e5ae38\"},\"line_alpha\":{\"value\":0.1},\"line_color\":{\"value\":\"#e5ae38\"},\"size\":{\"value\":5.477225575051661},\"x\":{\"field\":\"feature_1\"},\"y\":{\"field\":\"feature_2\"}},\"id\":\"1202\",\"type\":\"Scatter\"},{\"attributes\":{\"bottom_units\":\"screen\",\"coordinates\":null,\"fill_alpha\":0.5,\"fill_color\":\"lightgrey\",\"group\":null,\"left_units\":\"screen\",\"level\":\"overlay\",\"line_alpha\":1.0,\"line_color\":\"black\",\"line_dash\":[4,4],\"line_width\":2,\"right_units\":\"screen\",\"syncable\":false,\"top_units\":\"screen\"},\"id\":\"1141\",\"type\":\"BoxAnnotation\"},{\"attributes\":{\"axis_label\":\"feature_1\",\"coordinates\":null,\"formatter\":{\"id\":\"1150\"},\"group\":null,\"major_label_policy\":{\"id\":\"1151\"},\"ticker\":{\"id\":\"1129\"}},\"id\":\"1128\",\"type\":\"LinearAxis\"},{\"attributes\":{\"coordinates\":null,\"data_source\":{\"id\":\"1155\"},\"glyph\":{\"id\":\"1158\"},\"group\":null,\"hover_glyph\":null,\"muted_glyph\":{\"id\":\"1160\"},\"nonselection_glyph\":{\"id\":\"1159\"},\"selection_glyph\":{\"id\":\"1175\"},\"view\":{\"id\":\"1162\"}},\"id\":\"1161\",\"type\":\"GlyphRenderer\"},{\"attributes\":{},\"id\":\"1126\",\"type\":\"LinearScale\"},{\"attributes\":{\"source\":{\"id\":\"1198\"}},\"id\":\"1205\",\"type\":\"CDSView\"},{\"attributes\":{\"end\":6.812945338442532,\"reset_end\":6.812945338442532,\"reset_start\":-6.796693307805908,\"start\":-6.796693307805908,\"tags\":[[[\"feature_1\",\"feature_1\",null]]]},\"id\":\"1114\",\"type\":\"Range1d\"},{\"attributes\":{\"fill_alpha\":{\"value\":0.2},\"fill_color\":{\"value\":\"#30a2da\"},\"hatch_alpha\":{\"value\":0.2},\"hatch_color\":{\"value\":\"#30a2da\"},\"line_alpha\":{\"value\":0.2},\"line_color\":{\"value\":\"#30a2da\"},\"size\":{\"value\":5.477225575051661},\"x\":{\"field\":\"feature_1\"},\"y\":{\"field\":\"feature_2\"}},\"id\":\"1160\",\"type\":\"Scatter\"},{\"attributes\":{\"coordinates\":null,\"data_source\":{\"id\":\"1176\"},\"glyph\":{\"id\":\"1179\"},\"group\":null,\"hover_glyph\":null,\"muted_glyph\":{\"id\":\"1181\"},\"nonselection_glyph\":{\"id\":\"1180\"},\"selection_glyph\":{\"id\":\"1197\"},\"view\":{\"id\":\"1183\"}},\"id\":\"1182\",\"type\":\"GlyphRenderer\"},{\"attributes\":{\"axis\":{\"id\":\"1132\"},\"coordinates\":null,\"dimension\":1,\"grid_line_color\":null,\"group\":null,\"ticker\":null},\"id\":\"1135\",\"type\":\"Grid\"},{\"attributes\":{\"end\":9.215602229847773,\"reset_end\":9.215602229847773,\"reset_start\":-5.909730475924883,\"start\":-5.909730475924883,\"tags\":[[[\"feature_2\",\"feature_2\",null]]]},\"id\":\"1115\",\"type\":\"Range1d\"},{\"attributes\":{\"angle\":{\"value\":0.0},\"fill_alpha\":{\"value\":1.0},\"fill_color\":{\"value\":\"#e5ae38\"},\"hatch_alpha\":{\"value\":1.0},\"hatch_color\":{\"value\":\"#e5ae38\"},\"hatch_scale\":{\"value\":12.0},\"hatch_weight\":{\"value\":1.0},\"line_alpha\":{\"value\":1.0},\"line_cap\":{\"value\":\"butt\"},\"line_color\":{\"value\":\"#e5ae38\"},\"line_dash\":{\"value\":[]},\"line_dash_offset\":{\"value\":0},\"line_join\":{\"value\":\"bevel\"},\"line_width\":{\"value\":1},\"marker\":{\"value\":\"circle\"},\"size\":{\"value\":5.477225575051661},\"x\":{\"field\":\"feature_1\"},\"y\":{\"field\":\"feature_2\"}},\"id\":\"1221\",\"type\":\"Scatter\"},{\"attributes\":{},\"id\":\"1129\",\"type\":\"BasicTicker\"},{\"attributes\":{\"children\":[{\"id\":\"1119\"}],\"height\":300,\"margin\":[0,0,0,0],\"name\":\"Row01022\",\"sizing_mode\":\"fixed\",\"tags\":[\"embedded\"],\"width\":700},\"id\":\"1113\",\"type\":\"Row\"},{\"attributes\":{\"label\":{\"value\":\"1\"},\"renderers\":[{\"id\":\"1182\"}]},\"id\":\"1196\",\"type\":\"LegendItem\"},{\"attributes\":{\"axis\":{\"id\":\"1128\"},\"coordinates\":null,\"grid_line_color\":null,\"group\":null,\"ticker\":null},\"id\":\"1131\",\"type\":\"Grid\"},{\"attributes\":{},\"id\":\"1153\",\"type\":\"BasicTickFormatter\"},{\"attributes\":{},\"id\":\"1217\",\"type\":\"UnionRenderers\"},{\"attributes\":{},\"id\":\"1133\",\"type\":\"BasicTicker\"},{\"attributes\":{\"axis_label\":\"feature_2\",\"coordinates\":null,\"formatter\":{\"id\":\"1153\"},\"group\":null,\"major_label_policy\":{\"id\":\"1154\"},\"ticker\":{\"id\":\"1133\"}},\"id\":\"1132\",\"type\":\"LinearAxis\"},{\"attributes\":{\"source\":{\"id\":\"1176\"}},\"id\":\"1183\",\"type\":\"CDSView\"},{\"attributes\":{\"fill_color\":{\"value\":\"#fc4f30\"},\"hatch_color\":{\"value\":\"#fc4f30\"},\"line_color\":{\"value\":\"#fc4f30\"},\"size\":{\"value\":5.477225575051661},\"x\":{\"field\":\"feature_1\"},\"y\":{\"field\":\"feature_2\"}},\"id\":\"1179\",\"type\":\"Scatter\"},{\"attributes\":{},\"id\":\"1156\",\"type\":\"Selection\"},{\"attributes\":{},\"id\":\"1177\",\"type\":\"Selection\"},{\"attributes\":{\"fill_color\":{\"value\":\"#30a2da\"},\"hatch_color\":{\"value\":\"#30a2da\"},\"line_color\":{\"value\":\"#30a2da\"},\"size\":{\"value\":5.477225575051661},\"x\":{\"field\":\"feature_1\"},\"y\":{\"field\":\"feature_2\"}},\"id\":\"1158\",\"type\":\"Scatter\"},{\"attributes\":{\"angle\":{\"value\":0.0},\"fill_alpha\":{\"value\":1.0},\"fill_color\":{\"value\":\"#30a2da\"},\"hatch_alpha\":{\"value\":1.0},\"hatch_color\":{\"value\":\"#30a2da\"},\"hatch_scale\":{\"value\":12.0},\"hatch_weight\":{\"value\":1.0},\"line_alpha\":{\"value\":1.0},\"line_cap\":{\"value\":\"butt\"},\"line_color\":{\"value\":\"#30a2da\"},\"line_dash\":{\"value\":[]},\"line_dash_offset\":{\"value\":0},\"line_join\":{\"value\":\"bevel\"},\"line_width\":{\"value\":1},\"marker\":{\"value\":\"circle\"},\"size\":{\"value\":5.477225575051661},\"x\":{\"field\":\"feature_1\"},\"y\":{\"field\":\"feature_2\"}},\"id\":\"1175\",\"type\":\"Scatter\"},{\"attributes\":{},\"id\":\"1154\",\"type\":\"AllLabels\"},{\"attributes\":{},\"id\":\"1193\",\"type\":\"UnionRenderers\"},{\"attributes\":{\"data\":{\"feature_1\":{\"__ndarray__\":\"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\",\"dtype\":\"float64\",\"order\":\"little\",\"shape\":[294]},\"feature_2\":{\"__ndarray__\":\"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\",\"dtype\":\"float64\",\"order\":\"little\",\"shape\":[294]},\"kmeans_hyphen_minus_segments\":[0,0,0,0,0,0,0,0,0,0,0,0,0,0,0,0,0,0,0,0,0,0,0,0,0,0,0,0,0,0,0,0,0,0,0,0,0,0,0,0,0,0,0,0,0,0,0,0,0,0,0,0,0,0,0,0,0,0,0,0,0,0,0,0,0,0,0,0,0,0,0,0,0,0,0,0,0,0,0,0,0,0,0,0,0,0,0,0,0,0,0,0,0,0,0,0,0,0,0,0,0,0,0,0,0,0,0,0,0,0,0,0,0,0,0,0,0,0,0,0,0,0,0,0,0,0,0,0,0,0,0,0,0,0,0,0,0,0,0,0,0,0,0,0,0,0,0,0,0,0,0,0,0,0,0,0,0,0,0,0,0,0,0,0,0,0,0,0,0,0,0,0,0,0,0,0,0,0,0,0,0,0,0,0,0,0,0,0,0,0,0,0,0,0,0,0,0,0,0,0,0,0,0,0,0,0,0,0,0,0,0,0,0,0,0,0,0,0,0,0,0,0,0,0,0,0,0,0,0,0,0,0,0,0,0,0,0,0,0,0,0,0,0,0,0,0,0,0,0,0,0,0,0,0,0,0,0,0,0,0,0,0,0,0,0,0,0,0,0,0,0,0,0,0,0,0,0,0,0,0,0,0,0,0,0,0,0,0,0,0,0,0,0,0]},\"selected\":{\"id\":\"1156\"},\"selection_policy\":{\"id\":\"1170\"}},\"id\":\"1155\",\"type\":\"ColumnDataSource\"},{\"attributes\":{\"fill_alpha\":{\"value\":0.1},\"fill_color\":{\"value\":\"#30a2da\"},\"hatch_alpha\":{\"value\":0.1},\"hatch_color\":{\"value\":\"#30a2da\"},\"line_alpha\":{\"value\":0.1},\"line_color\":{\"value\":\"#30a2da\"},\"size\":{\"value\":5.477225575051661},\"x\":{\"field\":\"feature_1\"},\"y\":{\"field\":\"feature_2\"}},\"id\":\"1159\",\"type\":\"Scatter\"},{\"attributes\":{\"angle\":{\"value\":0.0},\"fill_alpha\":{\"value\":1.0},\"fill_color\":{\"value\":\"#fc4f30\"},\"hatch_alpha\":{\"value\":1.0},\"hatch_color\":{\"value\":\"#fc4f30\"},\"hatch_scale\":{\"value\":12.0},\"hatch_weight\":{\"value\":1.0},\"line_alpha\":{\"value\":1.0},\"line_cap\":{\"value\":\"butt\"},\"line_color\":{\"value\":\"#fc4f30\"},\"line_dash\":{\"value\":[]},\"line_dash_offset\":{\"value\":0},\"line_join\":{\"value\":\"bevel\"},\"line_width\":{\"value\":1},\"marker\":{\"value\":\"circle\"},\"size\":{\"value\":5.477225575051661},\"x\":{\"field\":\"feature_1\"},\"y\":{\"field\":\"feature_2\"}},\"id\":\"1197\",\"type\":\"Scatter\"},{\"attributes\":{\"overlay\":{\"id\":\"1141\"}},\"id\":\"1139\",\"type\":\"BoxZoomTool\"},{\"attributes\":{\"data\":{\"feature_1\":{\"__ndarray__\":\"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\",\"dtype\":\"float64\",\"order\":\"little\",\"shape\":[509]},\"feature_2\":{\"__ndarray__\":\"IB9njp9sEkAIRarNR5wOQM3otqD3zQJAd64lPoRQAEAoUP6rWqX6PwrKOUMFUuE/nwrMU+avBkAHEEAtbW0CQIiyvf5oYwBATJE0XF8BC0DvbSXC7LgQQK/Kihm8D/Y/aZRhGSDICEDULlFNKaPjv3KXxYm/e+g/4MCpDQCBAEDCj06gQYH7P26Bv33ikfU/GNUpZT1q/z9wVFob3xMOQMZi/eUDnQ5AAhXe2B2f/T+mBgHmeCgAQGaBV4sw7OC/az/qBYgu9j97RG058OkNQN6/F2HA+ABA8d2Q8s7A9z/3ybH3gp3fv7p1terOvfE/3xYtSNwNAEBAjhg5uO0LQPDdr4aie+O/MmrBFo8s4D9z18W4w8b9P/AItSyxmtU/3XYRh8YICECasF6m338EQD9iQASxQA9AM/9A0aPv9j8kZBEJ4EjbP/LcPNdldPU/CbL+kD17zT9RyHwM673fP9E4F9zVbQhACiZuuXbtDkCQKEzlDs8BQCjsJ74nuANAVxythPxUAECANmH9xBAHQKEyd/iHxu4/0J20zQo00z/0Wtde1qT5P9fk6pcsqQBAwKeLsRLEmj8bBduzhv7xP7PT3SEIggJAG1MB/seODEC1JgBbCQgCQOHEJttGq/O/OQHf1PbOCEB9VPdUP1kBQFq3iB/EkPU/qSCzRjfkC0AI+pXNw88JQA04+1kn7gtAKoDTsJLrAUDpPm+8GL4ZQNjeSOUr/Q1AmRWBlts31L+QbF8YAMcLQJetnWxTqhRAFXvQabia2T8b227gJK0GQLQUZMv4zOy/Hpa+mKDnA0CYg1gR37bevyD8GfEvAABAXTZPpKnG9z8j1BN9I5EAQGg2EJkMfeQ/C+6yv3LwBkCkLx65C88FQHJaUjL8OhlA9CO+Q05f5z/A5IEmK1Thv6pEDvkgCf0/UE8xWxeU7D+vF9ctDCHAP8jxXpEjTvY/RF3NVaYUBUAsQLR7AnbVP8bdADN3Pf0/tr2ODolMC0CTO+pe34AEQNE5n9sHvQBA5Dg5LUwD4L/uNm+rrM0CQDJUC2H3N/0/njUwwADq5j+Mw0Ru4yYCQBkbN/94AgRANBqjD15Y8D8y+2N4EEQOQKAZMWz+Iv4/rJuZHrB/7T/mTSOUt7P0P4llaGnNNQFAtYGeJq4X7z9ez+YjjxsAQB3Er2q0/NE/s9B2W3179D8G/oyIp/XmPwC/slqq//A/FcWVkL/AGECIptzOCpn9v4GKBYfYrwlArZm1JV+oCEBqJ3McOAr4P9hBxsY+V+E/38v0ZvvbDEAAnok4yvqgvzNwkyzC//8/XbBya6xH7z9gXEGIkm/AP1kLtNvLbf0/JKS+Uc2XC0DrSSWA19LpP7gbl1SaMMU/s2dexPuP8T9OqfwYp1YRQEoUq8fQMvI/Col4c901AUAUni2GAljmPwlJ345SYwFAwN3R1YOjAkBAtBeTGd3IvxRSCIpu2wnAvuM51h2b7D8SJWRJE1ILQDVr8cskugBA86e9wVEv8T9FQR64Ndr9P0roOVucF/8/ChH277KxA0Adg8PQxZjxPxKmtxPaiQ1Af+u2jM2n+T9I3ja+4771P8fQGlMyjAxA635JWsul/j90XcdPqWUEQOusj3HDqApAUqc3WqZWBEBGklPsUvP0v2GboCgQegpAxXj9wcDa/r+zdakYBNn4P2soJlJwvADAKO9P9kasCkDee2mYtCMQQP+ej60sKgRAJfx/axOH/T9psq7s0/oGQKDAOeYLsNM/UPsq66N7AEDKS9Jr4lgTQJaUdwcaIQJAbOWh9YIjEEBbJV5NZZIGQJ0rBDNh2g1AIkeCTlKrAEDs4VenJ5r9P9YCW5Cn7+M/BwK62k039z94SY9gkgERQOgZscDrjMs/Q6daoYbUFUBi5h7iTGn+vxaK5PZg2wpAE47yvwj8BUBWVHlItbj0P0SBsijSmwRAcm7oP2By9j8WF/ggwirwP98zk+cMiNi/0oEg+p5h8j/QwsEbm0gBQDvHLdzAAgpA4821zEbLB0CqTOiT6Fn5P5Q5Wq1q3PE/kaAN2hWz8j8JFppP0iz4P1HATXVcANE/qsGf58lj9j9MwFSM3DAUQB5aSxHnrgFAgj51ov7NDkD5pJFVcvANQOBOZf8IOt2/rO+A6OYi6z/BH13nsQ//P1vCbeUU0h9AQey3wCMHDUBpdGScC/T7P06Foqs/WuI/IF+K9xaeoD+ATQNPlEupv0D3T1CzyvM/2G8Cv5S46D+8LQBrslMDQDQ99SFRXQ1A/glWcWCi6T+ZgoPSWXAMQDBfQWErfNM/FlM3+qBh9T/x99cclQH3P0KEgGJFAhRARGrRfQXC6D+M5X+4xX3TP8y8Ut+66BBAgOOVhvXL2L9TiixUP8IJQP9H23n4HP4/OgggAeZJ8T/g5KyUQrb0v6LocGs1XOw/pntEe7mLD0AROx4lKaAOQBklT8+1HgBA8IOPqUmA5b9bh70WiksDQFV9AhKdUwZA/HbeYHmoCECWcZPmIJfqP0s7uw6pO/M/DnZWoWXCFUBkTCNBIgMIQE4nlwO47OQ/X0cMoln1uT9nDzIpPHcJQJb/F7A0PQ1AjswAMHUFAEAB7Hgd5AUKQCDYli7RawpAKK1iwcyfFUC6wHNt9JsKQDOldUT5oA1AHTRelc/zDkCMdfXx5HcPQNuxXEHmXvk/GXJ1yQqwEEDysAEheC0HQO+qfa3PeA1ANqMJVUsvAkDIN4HBh4cBwOTZP2Eb/vE/wTOnNdp8E0Di6aUMkff6P5bgRAPF6PM/rCh2BFVX9T8ExjngCT/8P+ZwekwhFRRAHmrGSRY5BUA8qsUZDsn6vzY89xyqZwPA1b2J0BYKAkBWvEpNPWTvP3SpUJSvyOY/UzdvJ2G/GUBOnrfqfJn2P8hyjsUscNO/SVI/7xi0+z9GLMO0/OMCQCCxna7rV/I/JVA1mcLi9D/fwgnmgprwP9AprNyVF8U/V2GRMnlr+j+cj+A+ZT/3P/oVcAL62eA/PKNy8Deh578aVAV9jI0TQMn6lK5yTglAIcoZxt/K/T9DOf4evYHuPwb7u3kHKAJApDqTmUwF5z+6ZifWw6kDQLonYYkiPQJAIKb12z7P8j9PLCYS9MX9P8D91KBYQt+/7UYzUaq+9j83KKeoDWMAQOa3zCgJ8Ok/iEbm3HwL9D8ZUd5QaMT9v+awWq17UwhAXKK5aBZEB0CPjYJ/TjQQQJFAZF83sQBAk15+RhDSA0AVqpxsLecKQOh6Rsb+Uf8/2L72CPXPE0BY9QACC4bxP4+mlfyTIwBANBtWtw1rAkDEVBk2OELzP+/eYlaeRgxAcf6DrWUb378tI+LbdBv/P95g6CQ6Jfe/woXdxTM6A0CJpQW5tXX3P3SulrTUUfs/irxu8kThB0BJk0bEin0aQF/yc+B7XBZAOjakZTcd8L/ARplAoBbQPzOBNwNJmd4/fM8di2fECsBgV01ye0kLQEmtFIRDtAFADpX50Nl56j8pEhSDtxDPv4DJuZjd9Q1AgA4Ty4yAD0A5jGtx6MAMQLvA7hswQvs/+CT1lotq9T9Qvy4+AGjIv5/DAo1iTvk/oREseTWOF0Ar+a2rYF8NQF6zNpBoJhZAGAu4IrsVC0CAOVTuiTzYv/jNh1hRGdm/ANFWgIOp2z82MqsYkNoKQOFfBWM+Cdw/FdfFHQLMEkAFqTPlfKoYQDEdutcuyvw/7PWEtEiu2D/QzOsvpkXIv4pK78/gVP4/8nc+3S+K5D+NjNs6gSQBQDLqAaHn5wNAW56aYkgv+T9GWdMBds70PwB3wBWJ5gFA89+urkk1B0Aw0BMkUC4DQADxIM7mmOw/kO5MrX3c6D+/aOwA68j5PzBC+MnEM+c/eaWjWkYS8z/cUTemxJ/1P5LNNItho/g/cOaGn6Mosj9z8YMLGh4CQBAupnY9++Y/wnDmcgEVE0CYUV2YczsAwEBUwaVnVpk/0sLNYYuz/T/jVk+u2/IXQNRkIgg3ORBAjhWfmQJIAMAy44fTBqMLQJOSnA+/yRNAz/FMci+TDUCCi2SHAjfwP6JFLb269eM/zYE1/mlSC0CWSoRJymUMQMCsNuumFMS/lCmiy0V05b9gk5HvP7YCQMQs2z0ftOw/oNAVZp3ztz9detkvfsAIQONtqf6IpPk/nDz/k4kt+T9AxHY4FvORP5chE5cMCvg/F4szYzQn0r+XRNrfaIIIQBFLshjNNfs/jN2rF2E8+j+HzG2wbmYPQPcWammv1/M/NBAmz9TLE0BMQYF+JIDsP7vwGGX+ywVAyAi1Fqmv0r+2rGBfH9X6P9KMx8EM/PE/dHE/h4gZEUDkqFMcRaHxP8Zqor3Y9RJAmWdZK5MiB0CdYn5pdpcFQExDHEmbOBBAVArSJRcI9T9T+GyXHgv+P3Z1OFNgrvU/fHVaKxMR4z8gPBEcFaj0v7Nrq4YRz/8/ZvEDppcwEEC394afMZ4BQPxq6jZXcuA/xp9WCrtnDEA0mCD5cQnqvzGAqULhxQhADUlCPOZdAUDR3daPH9cDQNTwE47z4eS/AIZv9wk3B0BjIEdbfJL1P6yosDFOrABAiFfJglmr0L/GoLaacJbwv+63MhNdrPK/JscIgBee9j9q6K0HIZoGQBELl2v5lLw/87a1fGFuCkCojse3MGgIQKTXgxfM8eW/e39KJJAL+T/6Jo97yh70v6HvhuuttRBAvI5oO9mG+D+oOBjkOzTkv44z7flT/RFAfjDJp/jDAUDJJdP7rD3zPxE6vvdEcw5AaDUT5zyK8z+dRvd7my4BQOasqjz3o/s/E2WcE2MzAkC7SpJNlvcWQCBbbvO8Q7S//Z2W/wn5/T+PRKeI6grwPyb5LGYO//w/OW9xa8lPBECgaofflmm3v6xPbJNVnAJAQTLau8XqDUDXzpSgw0/fv9x/FXmm5wRAJpEf02JhEEBjTuqbEVwEQL1zePvlHxlAT8ro5iT02b8MOFGI1lXov3lIuc+BdgRAwEayMIcWAECB7Wd7ge4FQBzKcDfA4dQ/lBEwLI2b8z/BPO9uujsCQDFQgGw2VvM/dVD9ZkWAEUCs+K5g1lEDQJNLCEf/GwhAC+V0aXYE9j/mEAXQApXpPzb9ES4l9hFAiT3KTwD9A0B1NaQq7cDeP5OEdKpqUNg/ABDu8oCuXb/2AblFywAHQB7aENq/HRJAD7GRHMK+w7/ZJ1+pqYAHQKlGWzBakwBAR+dEVCk6EkBMQSJmTk8BQGCxQxB3QNO/bvUCSYOF+j+jOpGTHxkAQJxmMQVZVPO/6IMGYjpK5r9DTL+EqK8AQJMHBtl46hFAoArAgS53pz9OuhAhgLAJQOLn21xe0glAiXkEnkGWEEC8/4wANhcEQCDDI8cPixBADRWDyDr5/D/rBP4ih78EQGbK0rWDuxBAMnKNSnsZA0DQgd2KssEDQA==\",\"dtype\":\"float64\",\"order\":\"little\",\"shape\":[509]},\"kmeans_hyphen_minus_segments\":[1,1,1,1,1,1,1,1,1,1,1,1,1,1,1,1,1,1,1,1,1,1,1,1,1,1,1,1,1,1,1,1,1,1,1,1,1,1,1,1,1,1,1,1,1,1,1,1,1,1,1,1,1,1,1,1,1,1,1,1,1,1,1,1,1,1,1,1,1,1,1,1,1,1,1,1,1,1,1,1,1,1,1,1,1,1,1,1,1,1,1,1,1,1,1,1,1,1,1,1,1,1,1,1,1,1,1,1,1,1,1,1,1,1,1,1,1,1,1,1,1,1,1,1,1,1,1,1,1,1,1,1,1,1,1,1,1,1,1,1,1,1,1,1,1,1,1,1,1,1,1,1,1,1,1,1,1,1,1,1,1,1,1,1,1,1,1,1,1,1,1,1,1,1,1,1,1,1,1,1,1,1,1,1,1,1,1,1,1,1,1,1,1,1,1,1,1,1,1,1,1,1,1,1,1,1,1,1,1,1,1,1,1,1,1,1,1,1,1,1,1,1,1,1,1,1,1,1,1,1,1,1,1,1,1,1,1,1,1,1,1,1,1,1,1,1,1,1,1,1,1,1,1,1,1,1,1,1,1,1,1,1,1,1,1,1,1,1,1,1,1,1,1,1,1,1,1,1,1,1,1,1,1,1,1,1,1,1,1,1,1,1,1,1,1,1,1,1,1,1,1,1,1,1,1,1,1,1,1,1,1,1,1,1,1,1,1,1,1,1,1,1,1,1,1,1,1,1,1,1,1,1,1,1,1,1,1,1,1,1,1,1,1,1,1,1,1,1,1,1,1,1,1,1,1,1,1,1,1,1,1,1,1,1,1,1,1,1,1,1,1,1,1,1,1,1,1,1,1,1,1,1,1,1,1,1,1,1,1,1,1,1,1,1,1,1,1,1,1,1,1,1,1,1,1,1,1,1,1,1,1,1,1,1,1,1,1,1,1,1,1,1,1,1,1,1,1,1,1,1,1,1,1,1,1,1,1,1,1,1,1,1,1,1,1,1,1,1,1,1,1,1,1,1,1,1,1,1,1,1,1,1,1,1,1,1,1,1,1,1,1,1,1,1,1,1,1,1,1,1,1,1,1,1,1,1,1,1,1,1,1,1,1,1,1,1,1,1,1,1,1,1,1,1,1,1,1,1,1]},\"selected\":{\"id\":\"1177\"},\"selection_policy\":{\"id\":\"1193\"}},\"id\":\"1176\",\"type\":\"ColumnDataSource\"},{\"attributes\":{\"fill_color\":{\"value\":\"#e5ae38\"},\"hatch_color\":{\"value\":\"#e5ae38\"},\"line_color\":{\"value\":\"#e5ae38\"},\"size\":{\"value\":5.477225575051661},\"x\":{\"field\":\"feature_1\"},\"y\":{\"field\":\"feature_2\"}},\"id\":\"1201\",\"type\":\"Scatter\"},{\"attributes\":{},\"id\":\"1136\",\"type\":\"SaveTool\"},{\"attributes\":{},\"id\":\"1170\",\"type\":\"UnionRenderers\"},{\"attributes\":{\"click_policy\":\"mute\",\"coordinates\":null,\"group\":null,\"items\":[{\"id\":\"1174\"},{\"id\":\"1196\"},{\"id\":\"1220\"}],\"location\":[0,0],\"title\":\"kmeans-segments\"},\"id\":\"1173\",\"type\":\"Legend\"},{\"attributes\":{\"data\":{\"feature_1\":{\"__ndarray__\":\"8ITm11VfEMBF2ffSnZECwMOcT+sNfu2/veiLv2rC9b8LaOgVmJILwIP9Fsxg6/K/mmf2Ks9lDcDDt2PxMIgEwGiaSyncNMO/KpNKUuhoBMAGZdtQTxn9v5glApwN7AjAVFDTXEaxCMAFjJHdSQ8EwKCaDC5T2/m/uVl24PoNAcAZNHvfRkj6v67AaMWyMv6/XrUMowFJ4r+T6yGCDYkIwM54tcj43QjAFzPexQhmBcBgWTgA+aIQwEwTKwg+RwLA6PRx0nE7CMAZhj7o+csFwKTM/vLPVdC/HHkm0K/7AMD2Okd/Zs8DwC2KoG14hgrA06iJZEBzAcBq2x2zKt4BwDCUpYr1CQfA6oWVAPhxBMACxBi7HJ/0v4T9+V7UqAHAlMSvLAO13L8eDACI0JsFwM+rKMotNQXAyFXCLvHb7b9qPzZKauHxv85tWDc/owXAP7pqHDsEB8CYDQARJFQJwFLdph8IzgDAsajjJK4fCcBmL1IWlrb2vy7pzO+pqRLAQ4EAYZAnE8A5NMX9NdkGwLg+PUSpBwLAjqnDHDYQ87/u45j3i5Pvv+LpnFkA7wzAZ886OqlB/r9uuNg5537+v394MnNk1fi/r8xLV05YAMBYON6nF+MLwLHR5FZbNQbA2POq1jbs9L/Iv2pkz+Hmv9kBBCoHbAXAawyeNtP2GMAKSY2cjr8SwGe93dkzfwXA558oMHo4A8CT/KarmzgMwPyMOVAh3ALAQGU3NHIE0j9erDHKOTAEwLdZZpP98fy/zO+b4OhXA8AXIpN8dl0BwGYTQUwZwO2/IIt68ZaTyz+FWhTmzPPsv2XXw/8AHgzA0Z6l6sQf/r+86JmJmznSv5txdg5fDO6/C5Jnj69bEMArt468tUv5v+gzIWAL4gHAhYe2pkt7D8Ai9Z8Tc5z2v5xgvos8twjADW+GIbBz9r+zioWFp0EBwGiio9qX+APAEUA74P/byL+Tlju8negGwNpUJE6J2wrAZkkaznbw9L8fjxOyzDALwAD7z7YghXC/n3eTxJ+q7b94YmxWqkfVP5ZI3oAzghDA5koWNFS8B8BS8LxyH3oHwEus5tkSgArAN2VMRHoW8r+DRaUO5a/uv6y7vLfbhOO/THWaeoMy7L8rgk/n16UCwJKdz3mxn/O/jnHEORVBC8CUYMKYQR7Rv347r0cg2QvAvRQsA+FgBcBPocfCyVMLwJnvcG2Rav6/ww+rNLR+AcAe143ybQH1v7Pa+R4fFg7Av/a6gP0G+r8nQ8OI/r77v0ApW3/1SuC/17Y2A/h60D8KhHChVLIAwCnOErvJiAbA+D8NRBx78b9JFG7mRIkAwPNNGiG8Gvy/FVG7NicWAMCBwemNb3YAwNGtY5nAFgPA6RDA9TvICMDsgQsN7Uvzv2r65pxEwwDA15wvCcIi/r/Aq5WFlKoBwJXkDpPGDgDA7wCjeHHLAMD4a0BPl9vZv5bVbI9wtALAPVeTRcHxCcBE7t9BlTnev/rqrNtsK/u/pHFhojGRCsDivLtH32IHwIZqX+6LxOe/pZNAov0ZDMCK2KqScGILwMT0hvPe4wvA4ZHW5gAXB8D5Bq7SJYHdv+WAWB2KvQXAubd9DhLMAsBQEq+F+G/jv0AHBuKXMta/8G8MCrkd/7+4D5M4ty8MwKUCCmxC/AHAUHLoL5Dq9r9AjRMOaK+2P2w09pVBbgPA04nvPAAlDMD3xCGfiQAOwBfBkX9vRwbA8paMtDG5AMBfQ0C5bdMNwNrsnrykogjAijRaiTQ5AMB3R2565uQBwNFAhNXS5tO//mKP5FZ7CMBjY+shd+ACwMs2rlKPIP6/9LYwEHPg4b/WxsNWh5X7v6mhNKWg0f6/yRG199Bp+L/alSrNeMD0v+P2UG751Py/OsPkQ8rUBsAW8SO7Wk/2v/L9LBw4sgbAjzxouENu9r++Od8jNgsLwLBRbi0VGgTAxIZvLWbnAMCqQmE9bxjiv/DxztQWG7y/6hA14bulA8CO8K034LD+v/59W3OnXRDAcBfgpck2AcCk7juPg5kDwEXcca3qSPG/1REA45RDAsCj7d5oKY8LwG+VF+R2bfe/YIRRD+fQBcCkCIEOqkPiPw==\",\"dtype\":\"float64\",\"order\":\"little\",\"shape\":[197]},\"feature_2\":{\"__ndarray__\":\"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\",\"dtype\":\"float64\",\"order\":\"little\",\"shape\":[197]},\"kmeans_hyphen_minus_segments\":[2,2,2,2,2,2,2,2,2,2,2,2,2,2,2,2,2,2,2,2,2,2,2,2,2,2,2,2,2,2,2,2,2,2,2,2,2,2,2,2,2,2,2,2,2,2,2,2,2,2,2,2,2,2,2,2,2,2,2,2,2,2,2,2,2,2,2,2,2,2,2,2,2,2,2,2,2,2,2,2,2,2,2,2,2,2,2,2,2,2,2,2,2,2,2,2,2,2,2,2,2,2,2,2,2,2,2,2,2,2,2,2,2,2,2,2,2,2,2,2,2,2,2,2,2,2,2,2,2,2,2,2,2,2,2,2,2,2,2,2,2,2,2,2,2,2,2,2,2,2,2,2,2,2,2,2,2,2,2,2,2,2,2,2,2,2,2,2,2,2,2,2,2,2,2,2,2,2,2,2,2,2,2,2,2,2,2,2,2,2,2,2,2,2,2,2,2]},\"selected\":{\"id\":\"1199\"},\"selection_policy\":{\"id\":\"1217\"}},\"id\":\"1198\",\"type\":\"ColumnDataSource\"},{\"attributes\":{\"fill_alpha\":{\"value\":0.2},\"fill_color\":{\"value\":\"#e5ae38\"},\"hatch_alpha\":{\"value\":0.2},\"hatch_color\":{\"value\":\"#e5ae38\"},\"line_alpha\":{\"value\":0.2},\"line_color\":{\"value\":\"#e5ae38\"},\"size\":{\"value\":5.477225575051661},\"x\":{\"field\":\"feature_1\"},\"y\":{\"field\":\"feature_2\"}},\"id\":\"1203\",\"type\":\"Scatter\"},{\"attributes\":{},\"id\":\"1137\",\"type\":\"PanTool\"},{\"attributes\":{\"label\":{\"value\":\"0\"},\"renderers\":[{\"id\":\"1161\"}]},\"id\":\"1174\",\"type\":\"LegendItem\"},{\"attributes\":{},\"id\":\"1150\",\"type\":\"BasicTickFormatter\"},{\"attributes\":{},\"id\":\"1151\",\"type\":\"AllLabels\"},{\"attributes\":{\"coordinates\":null,\"data_source\":{\"id\":\"1198\"},\"glyph\":{\"id\":\"1201\"},\"group\":null,\"hover_glyph\":null,\"muted_glyph\":{\"id\":\"1203\"},\"nonselection_glyph\":{\"id\":\"1202\"},\"selection_glyph\":{\"id\":\"1221\"},\"view\":{\"id\":\"1205\"}},\"id\":\"1204\",\"type\":\"GlyphRenderer\"},{\"attributes\":{},\"id\":\"1138\",\"type\":\"WheelZoomTool\"},{\"attributes\":{\"active_drag\":{\"id\":\"1137\"},\"active_scroll\":{\"id\":\"1138\"},\"tools\":[{\"id\":\"1116\"},{\"id\":\"1136\"},{\"id\":\"1137\"},{\"id\":\"1138\"},{\"id\":\"1139\"},{\"id\":\"1140\"}]},\"id\":\"1142\",\"type\":\"Toolbar\"},{\"attributes\":{},\"id\":\"1124\",\"type\":\"LinearScale\"}],\"root_ids\":[\"1113\"]},\"title\":\"Bokeh Application\",\"version\":\"2.4.3\"}};\n",
       "    var render_items = [{\"docid\":\"cb87a571-180e-4395-810f-2b5849053e77\",\"root_ids\":[\"1113\"],\"roots\":{\"1113\":\"69ca221a-a4b1-4473-8fdf-042b9fe74381\"}}];\n",
       "    root.Bokeh.embed.embed_items_notebook(docs_json, render_items);\n",
       "    for (const render_item of render_items) {\n",
       "      for (const root_id of render_item.root_ids) {\n",
       "\tconst id_el = document.getElementById(root_id)\n",
       "\tif (id_el.children.length && (id_el.children[0].className === 'bk-root')) {\n",
       "\t  const root_el = id_el.children[0]\n",
       "\t  root_el.id = root_el.id + '-rendered'\n",
       "\t}\n",
       "      }\n",
       "    }\n",
       "  }\n",
       "  if (root.Bokeh !== undefined && root.Bokeh.Panel !== undefined) {\n",
       "    embed_document(root);\n",
       "  } else {\n",
       "    var attempts = 0;\n",
       "    var timer = setInterval(function(root) {\n",
       "      if (root.Bokeh !== undefined && root.Bokeh.Panel !== undefined) {\n",
       "        clearInterval(timer);\n",
       "        embed_document(root);\n",
       "      } else if (document.readyState == \"complete\") {\n",
       "        attempts++;\n",
       "        if (attempts > 200) {\n",
       "          clearInterval(timer);\n",
       "          console.log(\"Bokeh: ERROR: Unable to run BokehJS code because BokehJS library is missing\");\n",
       "        }\n",
       "      }\n",
       "    }, 25, root)\n",
       "  }\n",
       "})(window);</script>"
      ],
      "text/plain": [
       ":NdOverlay   [kmeans-segments]\n",
       "   :Scatter   [feature_1]   (feature_2)"
      ]
     },
     "execution_count": 15,
     "metadata": {
      "application/vnd.holoviews_exec.v0+json": {
       "id": "1113"
      }
     },
     "output_type": "execute_result"
    }
   ],
   "source": [
    "# Plot the kmeans clusters using the \"feature_1\" and \"feature_2\" columns\n",
    "customers_predictions_df.hvplot.scatter(\n",
    "    x=\"feature_1\",\n",
    "    y=\"feature_2\",\n",
    "    by=\"kmeans-segments\"\n",
    ")"
   ]
  },
  {
   "cell_type": "code",
   "execution_count": 16,
   "metadata": {
    "scrolled": true
   },
   "outputs": [
    {
     "data": {},
     "metadata": {},
     "output_type": "display_data"
    },
    {
     "data": {
      "application/vnd.holoviews_exec.v0+json": "",
      "text/html": [
       "<div id='1311'>\n",
       "  <div class=\"bk-root\" id=\"ef3db4e6-e815-405e-9f13-c6a3842ad162\" data-root-id=\"1311\"></div>\n",
       "</div>\n",
       "<script type=\"application/javascript\">(function(root) {\n",
       "  function embed_document(root) {\n",
       "    var docs_json = {\"9153dd84-3e27-4298-85f4-debd428232ea\":{\"defs\":[{\"extends\":null,\"module\":null,\"name\":\"ReactiveHTML1\",\"overrides\":[],\"properties\":[]},{\"extends\":null,\"module\":null,\"name\":\"FlexBox1\",\"overrides\":[],\"properties\":[{\"default\":\"flex-start\",\"kind\":null,\"name\":\"align_content\"},{\"default\":\"flex-start\",\"kind\":null,\"name\":\"align_items\"},{\"default\":\"row\",\"kind\":null,\"name\":\"flex_direction\"},{\"default\":\"wrap\",\"kind\":null,\"name\":\"flex_wrap\"},{\"default\":\"flex-start\",\"kind\":null,\"name\":\"justify_content\"}]},{\"extends\":null,\"module\":null,\"name\":\"GridStack1\",\"overrides\":[],\"properties\":[{\"default\":\"warn\",\"kind\":null,\"name\":\"mode\"},{\"default\":null,\"kind\":null,\"name\":\"ncols\"},{\"default\":null,\"kind\":null,\"name\":\"nrows\"},{\"default\":true,\"kind\":null,\"name\":\"allow_resize\"},{\"default\":true,\"kind\":null,\"name\":\"allow_drag\"},{\"default\":[],\"kind\":null,\"name\":\"state\"}]},{\"extends\":null,\"module\":null,\"name\":\"click1\",\"overrides\":[],\"properties\":[{\"default\":\"\",\"kind\":null,\"name\":\"terminal_output\"},{\"default\":\"\",\"kind\":null,\"name\":\"debug_name\"},{\"default\":0,\"kind\":null,\"name\":\"clears\"}]},{\"extends\":null,\"module\":null,\"name\":\"NotificationAreaBase1\",\"overrides\":[],\"properties\":[{\"default\":\"bottom-right\",\"kind\":null,\"name\":\"position\"},{\"default\":0,\"kind\":null,\"name\":\"_clear\"}]},{\"extends\":null,\"module\":null,\"name\":\"NotificationArea1\",\"overrides\":[],\"properties\":[{\"default\":[],\"kind\":null,\"name\":\"notifications\"},{\"default\":\"bottom-right\",\"kind\":null,\"name\":\"position\"},{\"default\":0,\"kind\":null,\"name\":\"_clear\"},{\"default\":[{\"background\":\"#ffc107\",\"icon\":{\"className\":\"fas fa-exclamation-triangle\",\"color\":\"white\",\"tagName\":\"i\"},\"type\":\"warning\"},{\"background\":\"#007bff\",\"icon\":{\"className\":\"fas fa-info-circle\",\"color\":\"white\",\"tagName\":\"i\"},\"type\":\"info\"}],\"kind\":null,\"name\":\"types\"}]},{\"extends\":null,\"module\":null,\"name\":\"Notification\",\"overrides\":[],\"properties\":[{\"default\":null,\"kind\":null,\"name\":\"background\"},{\"default\":3000,\"kind\":null,\"name\":\"duration\"},{\"default\":null,\"kind\":null,\"name\":\"icon\"},{\"default\":\"\",\"kind\":null,\"name\":\"message\"},{\"default\":null,\"kind\":null,\"name\":\"notification_type\"},{\"default\":false,\"kind\":null,\"name\":\"_destroyed\"}]},{\"extends\":null,\"module\":null,\"name\":\"TemplateActions1\",\"overrides\":[],\"properties\":[{\"default\":0,\"kind\":null,\"name\":\"open_modal\"},{\"default\":0,\"kind\":null,\"name\":\"close_modal\"}]},{\"extends\":null,\"module\":null,\"name\":\"MaterialTemplateActions1\",\"overrides\":[],\"properties\":[{\"default\":0,\"kind\":null,\"name\":\"open_modal\"},{\"default\":0,\"kind\":null,\"name\":\"close_modal\"}]}],\"roots\":{\"references\":[{\"attributes\":{\"coordinates\":null,\"data_source\":{\"id\":\"1374\"},\"glyph\":{\"id\":\"1377\"},\"group\":null,\"hover_glyph\":null,\"muted_glyph\":{\"id\":\"1379\"},\"nonselection_glyph\":{\"id\":\"1378\"},\"selection_glyph\":{\"id\":\"1395\"},\"view\":{\"id\":\"1381\"}},\"id\":\"1380\",\"type\":\"GlyphRenderer\"},{\"attributes\":{\"active_drag\":{\"id\":\"1335\"},\"active_scroll\":{\"id\":\"1336\"},\"tools\":[{\"id\":\"1314\"},{\"id\":\"1334\"},{\"id\":\"1335\"},{\"id\":\"1336\"},{\"id\":\"1337\"},{\"id\":\"1338\"}]},\"id\":\"1340\",\"type\":\"Toolbar\"},{\"attributes\":{},\"id\":\"1322\",\"type\":\"LinearScale\"},{\"attributes\":{\"overlay\":{\"id\":\"1339\"}},\"id\":\"1337\",\"type\":\"BoxZoomTool\"},{\"attributes\":{},\"id\":\"1375\",\"type\":\"Selection\"},{\"attributes\":{},\"id\":\"1415\",\"type\":\"UnionRenderers\"},{\"attributes\":{\"below\":[{\"id\":\"1326\"}],\"center\":[{\"id\":\"1329\"},{\"id\":\"1333\"}],\"height\":300,\"left\":[{\"id\":\"1330\"}],\"margin\":[5,5,5,5],\"min_border_bottom\":10,\"min_border_left\":10,\"min_border_right\":10,\"min_border_top\":10,\"renderers\":[{\"id\":\"1359\"},{\"id\":\"1380\"},{\"id\":\"1402\"}],\"right\":[{\"id\":\"1371\"}],\"sizing_mode\":\"fixed\",\"title\":{\"id\":\"1318\"},\"toolbar\":{\"id\":\"1340\"},\"width\":700,\"x_range\":{\"id\":\"1312\"},\"x_scale\":{\"id\":\"1322\"},\"y_range\":{\"id\":\"1313\"},\"y_scale\":{\"id\":\"1324\"}},\"id\":\"1317\",\"subtype\":\"Figure\",\"type\":\"Plot\"},{\"attributes\":{\"fill_alpha\":{\"value\":0.2},\"fill_color\":{\"value\":\"#30a2da\"},\"hatch_alpha\":{\"value\":0.2},\"hatch_color\":{\"value\":\"#30a2da\"},\"line_alpha\":{\"value\":0.2},\"line_color\":{\"value\":\"#30a2da\"},\"size\":{\"value\":5.477225575051661},\"x\":{\"field\":\"feature_1\"},\"y\":{\"field\":\"feature_2\"}},\"id\":\"1358\",\"type\":\"Scatter\"},{\"attributes\":{\"fill_alpha\":{\"value\":0.2},\"fill_color\":{\"value\":\"#fc4f30\"},\"hatch_alpha\":{\"value\":0.2},\"hatch_color\":{\"value\":\"#fc4f30\"},\"line_alpha\":{\"value\":0.2},\"line_color\":{\"value\":\"#fc4f30\"},\"size\":{\"value\":5.477225575051661},\"x\":{\"field\":\"feature_1\"},\"y\":{\"field\":\"feature_2\"}},\"id\":\"1379\",\"type\":\"Scatter\"},{\"attributes\":{},\"id\":\"1349\",\"type\":\"AllLabels\"},{\"attributes\":{},\"id\":\"1338\",\"type\":\"ResetTool\"},{\"attributes\":{\"fill_alpha\":{\"value\":0.1},\"fill_color\":{\"value\":\"#fc4f30\"},\"hatch_alpha\":{\"value\":0.1},\"hatch_color\":{\"value\":\"#fc4f30\"},\"line_alpha\":{\"value\":0.1},\"line_color\":{\"value\":\"#fc4f30\"},\"size\":{\"value\":5.477225575051661},\"x\":{\"field\":\"feature_1\"},\"y\":{\"field\":\"feature_2\"}},\"id\":\"1378\",\"type\":\"Scatter\"},{\"attributes\":{\"axis_label\":\"feature_1\",\"coordinates\":null,\"formatter\":{\"id\":\"1348\"},\"group\":null,\"major_label_policy\":{\"id\":\"1349\"},\"ticker\":{\"id\":\"1327\"}},\"id\":\"1326\",\"type\":\"LinearAxis\"},{\"attributes\":{\"source\":{\"id\":\"1374\"}},\"id\":\"1381\",\"type\":\"CDSView\"},{\"attributes\":{\"angle\":{\"value\":0.0},\"fill_alpha\":{\"value\":1.0},\"fill_color\":{\"value\":\"#e5ae38\"},\"hatch_alpha\":{\"value\":1.0},\"hatch_color\":{\"value\":\"#e5ae38\"},\"hatch_scale\":{\"value\":12.0},\"hatch_weight\":{\"value\":1.0},\"line_alpha\":{\"value\":1.0},\"line_cap\":{\"value\":\"butt\"},\"line_color\":{\"value\":\"#e5ae38\"},\"line_dash\":{\"value\":[]},\"line_dash_offset\":{\"value\":0},\"line_join\":{\"value\":\"bevel\"},\"line_width\":{\"value\":1},\"marker\":{\"value\":\"circle\"},\"size\":{\"value\":5.477225575051661},\"x\":{\"field\":\"feature_1\"},\"y\":{\"field\":\"feature_2\"}},\"id\":\"1419\",\"type\":\"Scatter\"},{\"attributes\":{\"callback\":null,\"renderers\":[{\"id\":\"1359\"},{\"id\":\"1380\"},{\"id\":\"1402\"}],\"tags\":[\"hv_created\"],\"tooltips\":[[\"agglomerative-segments\",\"@{agglomerative_hyphen_minus_segments}\"],[\"feature_1\",\"@{feature_1}\"],[\"feature_2\",\"@{feature_2}\"]]},\"id\":\"1314\",\"type\":\"HoverTool\"},{\"attributes\":{},\"id\":\"1324\",\"type\":\"LinearScale\"},{\"attributes\":{\"bottom_units\":\"screen\",\"coordinates\":null,\"fill_alpha\":0.5,\"fill_color\":\"lightgrey\",\"group\":null,\"left_units\":\"screen\",\"level\":\"overlay\",\"line_alpha\":1.0,\"line_color\":\"black\",\"line_dash\":[4,4],\"line_width\":2,\"right_units\":\"screen\",\"syncable\":false,\"top_units\":\"screen\"},\"id\":\"1339\",\"type\":\"BoxAnnotation\"},{\"attributes\":{\"end\":9.215602229847773,\"reset_end\":9.215602229847773,\"reset_start\":-5.909730475924883,\"start\":-5.909730475924883,\"tags\":[[[\"feature_2\",\"feature_2\",null]]]},\"id\":\"1313\",\"type\":\"Range1d\"},{\"attributes\":{\"fill_color\":{\"value\":\"#e5ae38\"},\"hatch_color\":{\"value\":\"#e5ae38\"},\"line_color\":{\"value\":\"#e5ae38\"},\"size\":{\"value\":5.477225575051661},\"x\":{\"field\":\"feature_1\"},\"y\":{\"field\":\"feature_2\"}},\"id\":\"1399\",\"type\":\"Scatter\"},{\"attributes\":{},\"id\":\"1354\",\"type\":\"Selection\"},{\"attributes\":{\"coordinates\":null,\"data_source\":{\"id\":\"1353\"},\"glyph\":{\"id\":\"1356\"},\"group\":null,\"hover_glyph\":null,\"muted_glyph\":{\"id\":\"1358\"},\"nonselection_glyph\":{\"id\":\"1357\"},\"selection_glyph\":{\"id\":\"1373\"},\"view\":{\"id\":\"1360\"}},\"id\":\"1359\",\"type\":\"GlyphRenderer\"},{\"attributes\":{\"axis\":{\"id\":\"1330\"},\"coordinates\":null,\"dimension\":1,\"grid_line_color\":null,\"group\":null,\"ticker\":null},\"id\":\"1333\",\"type\":\"Grid\"},{\"attributes\":{},\"id\":\"1327\",\"type\":\"BasicTicker\"},{\"attributes\":{\"source\":{\"id\":\"1353\"}},\"id\":\"1360\",\"type\":\"CDSView\"},{\"attributes\":{},\"id\":\"1391\",\"type\":\"UnionRenderers\"},{\"attributes\":{\"axis\":{\"id\":\"1326\"},\"coordinates\":null,\"grid_line_color\":null,\"group\":null,\"ticker\":null},\"id\":\"1329\",\"type\":\"Grid\"},{\"attributes\":{\"angle\":{\"value\":0.0},\"fill_alpha\":{\"value\":1.0},\"fill_color\":{\"value\":\"#fc4f30\"},\"hatch_alpha\":{\"value\":1.0},\"hatch_color\":{\"value\":\"#fc4f30\"},\"hatch_scale\":{\"value\":12.0},\"hatch_weight\":{\"value\":1.0},\"line_alpha\":{\"value\":1.0},\"line_cap\":{\"value\":\"butt\"},\"line_color\":{\"value\":\"#fc4f30\"},\"line_dash\":{\"value\":[]},\"line_dash_offset\":{\"value\":0},\"line_join\":{\"value\":\"bevel\"},\"line_width\":{\"value\":1},\"marker\":{\"value\":\"circle\"},\"size\":{\"value\":5.477225575051661},\"x\":{\"field\":\"feature_1\"},\"y\":{\"field\":\"feature_2\"}},\"id\":\"1395\",\"type\":\"Scatter\"},{\"attributes\":{\"fill_alpha\":{\"value\":0.1},\"fill_color\":{\"value\":\"#30a2da\"},\"hatch_alpha\":{\"value\":0.1},\"hatch_color\":{\"value\":\"#30a2da\"},\"line_alpha\":{\"value\":0.1},\"line_color\":{\"value\":\"#30a2da\"},\"size\":{\"value\":5.477225575051661},\"x\":{\"field\":\"feature_1\"},\"y\":{\"field\":\"feature_2\"}},\"id\":\"1357\",\"type\":\"Scatter\"},{\"attributes\":{},\"id\":\"1368\",\"type\":\"UnionRenderers\"},{\"attributes\":{\"fill_alpha\":{\"value\":0.1},\"fill_color\":{\"value\":\"#e5ae38\"},\"hatch_alpha\":{\"value\":0.1},\"hatch_color\":{\"value\":\"#e5ae38\"},\"line_alpha\":{\"value\":0.1},\"line_color\":{\"value\":\"#e5ae38\"},\"size\":{\"value\":5.477225575051661},\"x\":{\"field\":\"feature_1\"},\"y\":{\"field\":\"feature_2\"}},\"id\":\"1400\",\"type\":\"Scatter\"},{\"attributes\":{},\"id\":\"1331\",\"type\":\"BasicTicker\"},{\"attributes\":{\"axis_label\":\"feature_2\",\"coordinates\":null,\"formatter\":{\"id\":\"1351\"},\"group\":null,\"major_label_policy\":{\"id\":\"1352\"},\"ticker\":{\"id\":\"1331\"}},\"id\":\"1330\",\"type\":\"LinearAxis\"},{\"attributes\":{\"angle\":{\"value\":0.0},\"fill_alpha\":{\"value\":1.0},\"fill_color\":{\"value\":\"#30a2da\"},\"hatch_alpha\":{\"value\":1.0},\"hatch_color\":{\"value\":\"#30a2da\"},\"hatch_scale\":{\"value\":12.0},\"hatch_weight\":{\"value\":1.0},\"line_alpha\":{\"value\":1.0},\"line_cap\":{\"value\":\"butt\"},\"line_color\":{\"value\":\"#30a2da\"},\"line_dash\":{\"value\":[]},\"line_dash_offset\":{\"value\":0},\"line_join\":{\"value\":\"bevel\"},\"line_width\":{\"value\":1},\"marker\":{\"value\":\"circle\"},\"size\":{\"value\":5.477225575051661},\"x\":{\"field\":\"feature_1\"},\"y\":{\"field\":\"feature_2\"}},\"id\":\"1373\",\"type\":\"Scatter\"},{\"attributes\":{\"label\":{\"value\":\"2\"},\"renderers\":[{\"id\":\"1402\"}]},\"id\":\"1418\",\"type\":\"LegendItem\"},{\"attributes\":{\"click_policy\":\"mute\",\"coordinates\":null,\"group\":null,\"items\":[{\"id\":\"1372\"},{\"id\":\"1394\"},{\"id\":\"1418\"}],\"location\":[0,0],\"title\":\"agglomerative-segments\"},\"id\":\"1371\",\"type\":\"Legend\"},{\"attributes\":{\"label\":{\"value\":\"1\"},\"renderers\":[{\"id\":\"1380\"}]},\"id\":\"1394\",\"type\":\"LegendItem\"},{\"attributes\":{},\"id\":\"1348\",\"type\":\"BasicTickFormatter\"},{\"attributes\":{\"data\":{\"agglomerative_hyphen_minus_segments\":[1,1,1,1,1,1,1,1,1,1,1,1,1,1,1,1,1,1,1,1,1,1,1,1,1,1,1,1,1,1,1,1,1,1,1,1,1,1,1,1,1,1,1,1,1,1,1,1,1,1,1,1,1,1,1,1,1,1,1,1,1,1,1,1,1,1,1,1,1,1,1,1,1,1,1,1,1,1,1,1,1,1,1,1,1,1,1,1,1,1,1,1,1,1,1,1,1,1,1,1,1,1,1,1,1,1,1,1,1,1,1,1,1,1,1,1,1,1,1,1,1,1,1,1,1,1,1,1,1,1,1,1,1,1,1,1,1,1,1,1,1,1,1,1,1,1,1,1,1,1,1,1,1,1,1,1,1,1,1,1,1,1,1,1,1,1,1,1,1,1,1,1,1,1,1,1,1,1,1,1,1,1,1,1,1,1,1,1,1,1,1,1,1,1,1,1,1,1,1,1,1,1,1,1,1,1,1,1,1,1,1,1,1,1,1,1,1,1,1,1,1,1,1,1,1,1,1,1,1,1,1,1,1,1,1,1,1,1,1,1,1,1,1,1,1,1,1,1,1,1,1,1,1,1,1,1,1,1,1,1,1,1,1,1,1,1,1,1,1,1,1,1,1,1,1,1,1,1,1,1,1,1,1,1,1,1,1,1,1,1,1,1,1,1,1,1,1,1,1,1,1,1,1,1,1,1,1,1,1,1,1,1,1,1,1,1,1,1,1,1,1,1,1,1,1,1,1,1,1,1,1,1,1,1,1,1,1,1,1,1,1,1,1,1,1,1,1,1,1,1,1,1,1,1,1,1,1,1,1,1,1,1,1,1,1,1,1,1,1,1,1,1,1,1,1,1,1,1,1,1,1,1,1,1,1,1,1,1,1,1,1,1,1,1,1,1,1,1,1,1,1,1,1,1,1,1,1,1,1,1,1,1,1,1,1,1,1,1,1,1,1,1,1,1,1,1,1,1,1,1,1,1,1,1,1,1,1,1,1,1,1,1,1,1,1,1,1,1,1,1,1,1,1,1,1,1,1,1,1,1,1,1,1,1,1,1,1,1,1,1,1,1,1,1,1,1,1,1,1,1,1,1,1,1,1,1,1,1,1,1,1,1,1,1,1,1,1,1,1,1],\"feature_1\":{\"__ndarray__\":\"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\",\"dtype\":\"float64\",\"order\":\"little\",\"shape\":[500]},\"feature_2\":{\"__ndarray__\":\"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\",\"dtype\":\"float64\",\"order\":\"little\",\"shape\":[500]}},\"selected\":{\"id\":\"1375\"},\"selection_policy\":{\"id\":\"1391\"}},\"id\":\"1374\",\"type\":\"ColumnDataSource\"},{\"attributes\":{\"fill_alpha\":{\"value\":0.2},\"fill_color\":{\"value\":\"#e5ae38\"},\"hatch_alpha\":{\"value\":0.2},\"hatch_color\":{\"value\":\"#e5ae38\"},\"line_alpha\":{\"value\":0.2},\"line_color\":{\"value\":\"#e5ae38\"},\"size\":{\"value\":5.477225575051661},\"x\":{\"field\":\"feature_1\"},\"y\":{\"field\":\"feature_2\"}},\"id\":\"1401\",\"type\":\"Scatter\"},{\"attributes\":{},\"id\":\"1352\",\"type\":\"AllLabels\"},{\"attributes\":{\"label\":{\"value\":\"0\"},\"renderers\":[{\"id\":\"1359\"}]},\"id\":\"1372\",\"type\":\"LegendItem\"},{\"attributes\":{},\"id\":\"1397\",\"type\":\"Selection\"},{\"attributes\":{\"data\":{\"agglomerative_hyphen_minus_segments\":[0,0,0,0,0,0,0,0,0,0,0,0,0,0,0,0,0,0,0,0,0,0,0,0,0,0,0,0,0,0,0,0,0,0,0,0,0,0,0,0,0,0,0,0,0,0,0,0,0,0,0,0,0,0,0,0,0,0,0,0,0,0,0,0,0,0,0,0,0,0,0,0,0,0,0,0,0,0,0,0,0,0,0,0,0,0,0,0,0,0,0,0,0,0,0,0,0,0,0,0,0,0,0,0,0,0,0,0,0,0,0,0,0,0,0,0,0,0,0,0,0,0,0,0,0,0,0,0,0,0,0,0,0,0,0,0,0,0,0,0,0,0,0,0,0,0,0,0,0,0,0,0,0,0,0,0,0,0,0,0,0,0,0,0,0,0,0,0,0,0,0,0,0,0,0,0,0,0,0,0,0,0,0,0,0,0,0,0,0,0,0,0,0,0,0,0,0,0,0,0,0,0,0,0,0,0,0,0,0,0,0,0,0,0,0,0,0,0,0,0,0,0,0,0,0,0,0,0,0,0,0,0,0,0,0,0,0,0,0,0,0,0,0,0,0,0,0,0,0,0,0,0,0,0,0,0,0,0,0,0,0,0,0,0,0,0,0,0,0,0,0,0,0,0,0,0,0,0,0,0,0,0,0,0,0,0,0,0,0,0,0,0,0,0,0,0,0,0],\"feature_1\":{\"__ndarray__\":\"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\",\"dtype\":\"float64\",\"order\":\"little\",\"shape\":[298]},\"feature_2\":{\"__ndarray__\":\"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\",\"dtype\":\"float64\",\"order\":\"little\",\"shape\":[298]}},\"selected\":{\"id\":\"1354\"},\"selection_policy\":{\"id\":\"1368\"}},\"id\":\"1353\",\"type\":\"ColumnDataSource\"},{\"attributes\":{\"children\":[{\"id\":\"1317\"}],\"height\":300,\"margin\":[0,0,0,0],\"name\":\"Row01217\",\"sizing_mode\":\"fixed\",\"tags\":[\"embedded\"],\"width\":700},\"id\":\"1311\",\"type\":\"Row\"},{\"attributes\":{\"end\":6.812945338442532,\"reset_end\":6.812945338442532,\"reset_start\":-6.796693307805908,\"start\":-6.796693307805908,\"tags\":[[[\"feature_1\",\"feature_1\",null]]]},\"id\":\"1312\",\"type\":\"Range1d\"},{\"attributes\":{\"data\":{\"agglomerative_hyphen_minus_segments\":[2,2,2,2,2,2,2,2,2,2,2,2,2,2,2,2,2,2,2,2,2,2,2,2,2,2,2,2,2,2,2,2,2,2,2,2,2,2,2,2,2,2,2,2,2,2,2,2,2,2,2,2,2,2,2,2,2,2,2,2,2,2,2,2,2,2,2,2,2,2,2,2,2,2,2,2,2,2,2,2,2,2,2,2,2,2,2,2,2,2,2,2,2,2,2,2,2,2,2,2,2,2,2,2,2,2,2,2,2,2,2,2,2,2,2,2,2,2,2,2,2,2,2,2,2,2,2,2,2,2,2,2,2,2,2,2,2,2,2,2,2,2,2,2,2,2,2,2,2,2,2,2,2,2,2,2,2,2,2,2,2,2,2,2,2,2,2,2,2,2,2,2,2,2,2,2,2,2,2,2,2,2,2,2,2,2,2,2,2,2,2,2,2,2,2,2,2,2,2,2,2,2],\"feature_1\":{\"__ndarray__\":\"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\",\"dtype\":\"float64\",\"order\":\"little\",\"shape\":[202]},\"feature_2\":{\"__ndarray__\":\"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\",\"dtype\":\"float64\",\"order\":\"little\",\"shape\":[202]}},\"selected\":{\"id\":\"1397\"},\"selection_policy\":{\"id\":\"1415\"}},\"id\":\"1396\",\"type\":\"ColumnDataSource\"},{\"attributes\":{\"source\":{\"id\":\"1396\"}},\"id\":\"1403\",\"type\":\"CDSView\"},{\"attributes\":{\"fill_color\":{\"value\":\"#30a2da\"},\"hatch_color\":{\"value\":\"#30a2da\"},\"line_color\":{\"value\":\"#30a2da\"},\"size\":{\"value\":5.477225575051661},\"x\":{\"field\":\"feature_1\"},\"y\":{\"field\":\"feature_2\"}},\"id\":\"1356\",\"type\":\"Scatter\"},{\"attributes\":{\"coordinates\":null,\"data_source\":{\"id\":\"1396\"},\"glyph\":{\"id\":\"1399\"},\"group\":null,\"hover_glyph\":null,\"muted_glyph\":{\"id\":\"1401\"},\"nonselection_glyph\":{\"id\":\"1400\"},\"selection_glyph\":{\"id\":\"1419\"},\"view\":{\"id\":\"1403\"}},\"id\":\"1402\",\"type\":\"GlyphRenderer\"},{\"attributes\":{},\"id\":\"1334\",\"type\":\"SaveTool\"},{\"attributes\":{},\"id\":\"1351\",\"type\":\"BasicTickFormatter\"},{\"attributes\":{\"fill_color\":{\"value\":\"#fc4f30\"},\"hatch_color\":{\"value\":\"#fc4f30\"},\"line_color\":{\"value\":\"#fc4f30\"},\"size\":{\"value\":5.477225575051661},\"x\":{\"field\":\"feature_1\"},\"y\":{\"field\":\"feature_2\"}},\"id\":\"1377\",\"type\":\"Scatter\"},{\"attributes\":{},\"id\":\"1335\",\"type\":\"PanTool\"},{\"attributes\":{},\"id\":\"1336\",\"type\":\"WheelZoomTool\"},{\"attributes\":{\"coordinates\":null,\"group\":null,\"text_color\":\"black\",\"text_font_size\":\"12pt\"},\"id\":\"1318\",\"type\":\"Title\"}],\"root_ids\":[\"1311\"]},\"title\":\"Bokeh Application\",\"version\":\"2.4.3\"}};\n",
       "    var render_items = [{\"docid\":\"9153dd84-3e27-4298-85f4-debd428232ea\",\"root_ids\":[\"1311\"],\"roots\":{\"1311\":\"ef3db4e6-e815-405e-9f13-c6a3842ad162\"}}];\n",
       "    root.Bokeh.embed.embed_items_notebook(docs_json, render_items);\n",
       "    for (const render_item of render_items) {\n",
       "      for (const root_id of render_item.root_ids) {\n",
       "\tconst id_el = document.getElementById(root_id)\n",
       "\tif (id_el.children.length && (id_el.children[0].className === 'bk-root')) {\n",
       "\t  const root_el = id_el.children[0]\n",
       "\t  root_el.id = root_el.id + '-rendered'\n",
       "\t}\n",
       "      }\n",
       "    }\n",
       "  }\n",
       "  if (root.Bokeh !== undefined && root.Bokeh.Panel !== undefined) {\n",
       "    embed_document(root);\n",
       "  } else {\n",
       "    var attempts = 0;\n",
       "    var timer = setInterval(function(root) {\n",
       "      if (root.Bokeh !== undefined && root.Bokeh.Panel !== undefined) {\n",
       "        clearInterval(timer);\n",
       "        embed_document(root);\n",
       "      } else if (document.readyState == \"complete\") {\n",
       "        attempts++;\n",
       "        if (attempts > 200) {\n",
       "          clearInterval(timer);\n",
       "          console.log(\"Bokeh: ERROR: Unable to run BokehJS code because BokehJS library is missing\");\n",
       "        }\n",
       "      }\n",
       "    }, 25, root)\n",
       "  }\n",
       "})(window);</script>"
      ],
      "text/plain": [
       ":NdOverlay   [agglomerative-segments]\n",
       "   :Scatter   [feature_1]   (feature_2)"
      ]
     },
     "execution_count": 16,
     "metadata": {
      "application/vnd.holoviews_exec.v0+json": {
       "id": "1311"
      }
     },
     "output_type": "execute_result"
    }
   ],
   "source": [
    "# Plot the agglomerative clusters using the \"feature_1\" and \"feature_2\" columns\n",
    "customers_predictions_df.hvplot.scatter(\n",
    "    x=\"feature_1\",\n",
    "    y=\"feature_2\",\n",
    "    by=\"agglomerative-segments\"\n",
    ")"
   ]
  },
  {
   "cell_type": "code",
   "execution_count": 17,
   "metadata": {},
   "outputs": [
    {
     "data": {},
     "metadata": {},
     "output_type": "display_data"
    },
    {
     "data": {
      "application/vnd.holoviews_exec.v0+json": "",
      "text/html": [
       "<div id='1509'>\n",
       "  <div class=\"bk-root\" id=\"85fbdfb1-3d33-4f78-8504-0e4dfefad519\" data-root-id=\"1509\"></div>\n",
       "</div>\n",
       "<script type=\"application/javascript\">(function(root) {\n",
       "  function embed_document(root) {\n",
       "    var docs_json = {\"3e1de637-31c8-40e7-996e-1cf8bcc9c6ed\":{\"defs\":[{\"extends\":null,\"module\":null,\"name\":\"ReactiveHTML1\",\"overrides\":[],\"properties\":[]},{\"extends\":null,\"module\":null,\"name\":\"FlexBox1\",\"overrides\":[],\"properties\":[{\"default\":\"flex-start\",\"kind\":null,\"name\":\"align_content\"},{\"default\":\"flex-start\",\"kind\":null,\"name\":\"align_items\"},{\"default\":\"row\",\"kind\":null,\"name\":\"flex_direction\"},{\"default\":\"wrap\",\"kind\":null,\"name\":\"flex_wrap\"},{\"default\":\"flex-start\",\"kind\":null,\"name\":\"justify_content\"}]},{\"extends\":null,\"module\":null,\"name\":\"GridStack1\",\"overrides\":[],\"properties\":[{\"default\":\"warn\",\"kind\":null,\"name\":\"mode\"},{\"default\":null,\"kind\":null,\"name\":\"ncols\"},{\"default\":null,\"kind\":null,\"name\":\"nrows\"},{\"default\":true,\"kind\":null,\"name\":\"allow_resize\"},{\"default\":true,\"kind\":null,\"name\":\"allow_drag\"},{\"default\":[],\"kind\":null,\"name\":\"state\"}]},{\"extends\":null,\"module\":null,\"name\":\"click1\",\"overrides\":[],\"properties\":[{\"default\":\"\",\"kind\":null,\"name\":\"terminal_output\"},{\"default\":\"\",\"kind\":null,\"name\":\"debug_name\"},{\"default\":0,\"kind\":null,\"name\":\"clears\"}]},{\"extends\":null,\"module\":null,\"name\":\"NotificationAreaBase1\",\"overrides\":[],\"properties\":[{\"default\":\"bottom-right\",\"kind\":null,\"name\":\"position\"},{\"default\":0,\"kind\":null,\"name\":\"_clear\"}]},{\"extends\":null,\"module\":null,\"name\":\"NotificationArea1\",\"overrides\":[],\"properties\":[{\"default\":[],\"kind\":null,\"name\":\"notifications\"},{\"default\":\"bottom-right\",\"kind\":null,\"name\":\"position\"},{\"default\":0,\"kind\":null,\"name\":\"_clear\"},{\"default\":[{\"background\":\"#ffc107\",\"icon\":{\"className\":\"fas fa-exclamation-triangle\",\"color\":\"white\",\"tagName\":\"i\"},\"type\":\"warning\"},{\"background\":\"#007bff\",\"icon\":{\"className\":\"fas fa-info-circle\",\"color\":\"white\",\"tagName\":\"i\"},\"type\":\"info\"}],\"kind\":null,\"name\":\"types\"}]},{\"extends\":null,\"module\":null,\"name\":\"Notification\",\"overrides\":[],\"properties\":[{\"default\":null,\"kind\":null,\"name\":\"background\"},{\"default\":3000,\"kind\":null,\"name\":\"duration\"},{\"default\":null,\"kind\":null,\"name\":\"icon\"},{\"default\":\"\",\"kind\":null,\"name\":\"message\"},{\"default\":null,\"kind\":null,\"name\":\"notification_type\"},{\"default\":false,\"kind\":null,\"name\":\"_destroyed\"}]},{\"extends\":null,\"module\":null,\"name\":\"TemplateActions1\",\"overrides\":[],\"properties\":[{\"default\":0,\"kind\":null,\"name\":\"open_modal\"},{\"default\":0,\"kind\":null,\"name\":\"close_modal\"}]},{\"extends\":null,\"module\":null,\"name\":\"MaterialTemplateActions1\",\"overrides\":[],\"properties\":[{\"default\":0,\"kind\":null,\"name\":\"open_modal\"},{\"default\":0,\"kind\":null,\"name\":\"close_modal\"}]}],\"roots\":{\"references\":[{\"attributes\":{},\"id\":\"1549\",\"type\":\"BasicTickFormatter\"},{\"attributes\":{},\"id\":\"1547\",\"type\":\"AllLabels\"},{\"attributes\":{\"fill_alpha\":{\"value\":0.2},\"fill_color\":{\"value\":\"#e5ae38\"},\"hatch_alpha\":{\"value\":0.2},\"hatch_color\":{\"value\":\"#e5ae38\"},\"line_alpha\":{\"value\":0.2},\"line_color\":{\"value\":\"#e5ae38\"},\"size\":{\"value\":5.477225575051661},\"x\":{\"field\":\"feature_1\"},\"y\":{\"field\":\"feature_2\"}},\"id\":\"1599\",\"type\":\"Scatter\"},{\"attributes\":{},\"id\":\"1550\",\"type\":\"AllLabels\"},{\"attributes\":{\"below\":[{\"id\":\"1524\"}],\"center\":[{\"id\":\"1527\"},{\"id\":\"1531\"}],\"height\":300,\"left\":[{\"id\":\"1528\"}],\"margin\":[5,5,5,5],\"min_border_bottom\":10,\"min_border_left\":10,\"min_border_right\":10,\"min_border_top\":10,\"renderers\":[{\"id\":\"1557\"},{\"id\":\"1578\"},{\"id\":\"1600\"}],\"right\":[{\"id\":\"1569\"}],\"sizing_mode\":\"fixed\",\"title\":{\"id\":\"1516\"},\"toolbar\":{\"id\":\"1538\"},\"width\":700,\"x_range\":{\"id\":\"1510\"},\"x_scale\":{\"id\":\"1520\"},\"y_range\":{\"id\":\"1511\"},\"y_scale\":{\"id\":\"1522\"}},\"id\":\"1515\",\"subtype\":\"Figure\",\"type\":\"Plot\"},{\"attributes\":{\"fill_color\":{\"value\":\"#e5ae38\"},\"hatch_color\":{\"value\":\"#e5ae38\"},\"line_color\":{\"value\":\"#e5ae38\"},\"size\":{\"value\":5.477225575051661},\"x\":{\"field\":\"feature_1\"},\"y\":{\"field\":\"feature_2\"}},\"id\":\"1597\",\"type\":\"Scatter\"},{\"attributes\":{},\"id\":\"1566\",\"type\":\"UnionRenderers\"},{\"attributes\":{\"angle\":{\"value\":0.0},\"fill_alpha\":{\"value\":1.0},\"fill_color\":{\"value\":\"#30a2da\"},\"hatch_alpha\":{\"value\":1.0},\"hatch_color\":{\"value\":\"#30a2da\"},\"hatch_scale\":{\"value\":12.0},\"hatch_weight\":{\"value\":1.0},\"line_alpha\":{\"value\":1.0},\"line_cap\":{\"value\":\"butt\"},\"line_color\":{\"value\":\"#30a2da\"},\"line_dash\":{\"value\":[]},\"line_dash_offset\":{\"value\":0},\"line_join\":{\"value\":\"bevel\"},\"line_width\":{\"value\":1},\"marker\":{\"value\":\"circle\"},\"size\":{\"value\":5.477225575051661},\"x\":{\"field\":\"feature_1\"},\"y\":{\"field\":\"feature_2\"}},\"id\":\"1571\",\"type\":\"Scatter\"},{\"attributes\":{\"label\":{\"value\":\"0\"},\"renderers\":[{\"id\":\"1557\"}]},\"id\":\"1570\",\"type\":\"LegendItem\"},{\"attributes\":{\"data\":{\"birch_hyphen_minus_segments\":[2,2,2,2,2,2,2,2,2,2,2,2,2,2,2,2,2,2,2,2,2,2,2,2,2,2,2,2,2,2,2,2,2,2,2,2,2,2,2,2,2,2,2,2,2,2,2,2,2,2,2,2,2,2,2,2,2,2,2,2,2,2,2,2,2,2,2,2,2,2,2,2,2,2,2,2,2,2,2,2,2,2,2,2,2,2,2,2,2,2,2,2,2,2,2,2,2,2,2,2,2,2,2,2,2,2,2,2,2,2,2,2,2,2,2,2,2,2,2,2,2,2,2,2,2,2,2,2,2,2,2,2,2,2,2,2,2,2,2,2,2,2,2,2,2,2,2,2,2,2,2,2,2,2,2,2,2,2,2,2,2,2,2,2,2,2,2,2,2,2,2,2,2,2,2,2,2,2,2,2,2,2,2,2,2,2,2,2,2,2,2,2,2,2,2,2,2,2,2,2],\"feature_1\":{\"__ndarray__\":\"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\",\"dtype\":\"float64\",\"order\":\"little\",\"shape\":[200]},\"feature_2\":{\"__ndarray__\":\"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\",\"dtype\":\"float64\",\"order\":\"little\",\"shape\":[200]}},\"selected\":{\"id\":\"1595\"},\"selection_policy\":{\"id\":\"1613\"}},\"id\":\"1594\",\"type\":\"ColumnDataSource\"},{\"attributes\":{},\"id\":\"1595\",\"type\":\"Selection\"},{\"attributes\":{\"data\":{\"birch_hyphen_minus_segments\":[1,1,1,1,1,1,1,1,1,1,1,1,1,1,1,1,1,1,1,1,1,1,1,1,1,1,1,1,1,1,1,1,1,1,1,1,1,1,1,1,1,1,1,1,1,1,1,1,1,1,1,1,1,1,1,1,1,1,1,1,1,1,1,1,1,1,1,1,1,1,1,1,1,1,1,1,1,1,1,1,1,1,1,1,1,1,1,1,1,1,1,1,1,1,1,1,1,1,1,1,1,1,1,1,1,1,1,1,1,1,1,1,1,1,1,1,1,1,1,1,1,1,1,1,1,1,1,1,1,1,1,1,1,1,1,1,1,1,1,1,1,1,1,1,1,1,1,1,1,1,1,1,1,1,1,1,1,1,1,1,1,1,1,1,1,1,1,1,1,1,1,1,1,1,1,1,1,1,1,1,1,1,1,1,1,1,1,1,1,1,1,1,1,1,1,1,1,1,1,1,1,1,1,1,1,1,1,1,1,1,1,1,1,1,1,1,1,1,1,1,1,1,1,1,1,1,1,1,1,1,1,1,1,1,1,1,1,1,1,1,1,1,1,1,1,1,1,1,1,1,1,1,1,1,1,1,1,1,1,1,1,1,1,1,1,1,1,1,1,1,1,1,1,1,1,1,1,1,1,1,1,1,1,1,1,1,1,1,1,1,1,1,1,1,1,1,1,1,1],\"feature_1\":{\"__ndarray__\":\"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\",\"dtype\":\"float64\",\"order\":\"little\",\"shape\":[299]},\"feature_2\":{\"__ndarray__\":\"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\",\"dtype\":\"float64\",\"order\":\"little\",\"shape\":[299]}},\"selected\":{\"id\":\"1573\"},\"selection_policy\":{\"id\":\"1589\"}},\"id\":\"1572\",\"type\":\"ColumnDataSource\"},{\"attributes\":{\"fill_color\":{\"value\":\"#fc4f30\"},\"hatch_color\":{\"value\":\"#fc4f30\"},\"line_color\":{\"value\":\"#fc4f30\"},\"size\":{\"value\":5.477225575051661},\"x\":{\"field\":\"feature_1\"},\"y\":{\"field\":\"feature_2\"}},\"id\":\"1575\",\"type\":\"Scatter\"},{\"attributes\":{\"coordinates\":null,\"data_source\":{\"id\":\"1594\"},\"glyph\":{\"id\":\"1597\"},\"group\":null,\"hover_glyph\":null,\"muted_glyph\":{\"id\":\"1599\"},\"nonselection_glyph\":{\"id\":\"1598\"},\"selection_glyph\":{\"id\":\"1617\"},\"view\":{\"id\":\"1601\"}},\"id\":\"1600\",\"type\":\"GlyphRenderer\"},{\"attributes\":{\"fill_alpha\":{\"value\":0.1},\"fill_color\":{\"value\":\"#30a2da\"},\"hatch_alpha\":{\"value\":0.1},\"hatch_color\":{\"value\":\"#30a2da\"},\"line_alpha\":{\"value\":0.1},\"line_color\":{\"value\":\"#30a2da\"},\"size\":{\"value\":5.477225575051661},\"x\":{\"field\":\"feature_1\"},\"y\":{\"field\":\"feature_2\"}},\"id\":\"1555\",\"type\":\"Scatter\"},{\"attributes\":{},\"id\":\"1532\",\"type\":\"SaveTool\"},{\"attributes\":{\"angle\":{\"value\":0.0},\"fill_alpha\":{\"value\":1.0},\"fill_color\":{\"value\":\"#e5ae38\"},\"hatch_alpha\":{\"value\":1.0},\"hatch_color\":{\"value\":\"#e5ae38\"},\"hatch_scale\":{\"value\":12.0},\"hatch_weight\":{\"value\":1.0},\"line_alpha\":{\"value\":1.0},\"line_cap\":{\"value\":\"butt\"},\"line_color\":{\"value\":\"#e5ae38\"},\"line_dash\":{\"value\":[]},\"line_dash_offset\":{\"value\":0},\"line_join\":{\"value\":\"bevel\"},\"line_width\":{\"value\":1},\"marker\":{\"value\":\"circle\"},\"size\":{\"value\":5.477225575051661},\"x\":{\"field\":\"feature_1\"},\"y\":{\"field\":\"feature_2\"}},\"id\":\"1617\",\"type\":\"Scatter\"},{\"attributes\":{\"angle\":{\"value\":0.0},\"fill_alpha\":{\"value\":1.0},\"fill_color\":{\"value\":\"#fc4f30\"},\"hatch_alpha\":{\"value\":1.0},\"hatch_color\":{\"value\":\"#fc4f30\"},\"hatch_scale\":{\"value\":12.0},\"hatch_weight\":{\"value\":1.0},\"line_alpha\":{\"value\":1.0},\"line_cap\":{\"value\":\"butt\"},\"line_color\":{\"value\":\"#fc4f30\"},\"line_dash\":{\"value\":[]},\"line_dash_offset\":{\"value\":0},\"line_join\":{\"value\":\"bevel\"},\"line_width\":{\"value\":1},\"marker\":{\"value\":\"circle\"},\"size\":{\"value\":5.477225575051661},\"x\":{\"field\":\"feature_1\"},\"y\":{\"field\":\"feature_2\"}},\"id\":\"1593\",\"type\":\"Scatter\"},{\"attributes\":{},\"id\":\"1533\",\"type\":\"PanTool\"},{\"attributes\":{\"end\":6.812945338442532,\"reset_end\":6.812945338442532,\"reset_start\":-6.796693307805908,\"start\":-6.796693307805908,\"tags\":[[[\"feature_1\",\"feature_1\",null]]]},\"id\":\"1510\",\"type\":\"Range1d\"},{\"attributes\":{\"fill_alpha\":{\"value\":0.2},\"fill_color\":{\"value\":\"#30a2da\"},\"hatch_alpha\":{\"value\":0.2},\"hatch_color\":{\"value\":\"#30a2da\"},\"line_alpha\":{\"value\":0.2},\"line_color\":{\"value\":\"#30a2da\"},\"size\":{\"value\":5.477225575051661},\"x\":{\"field\":\"feature_1\"},\"y\":{\"field\":\"feature_2\"}},\"id\":\"1556\",\"type\":\"Scatter\"},{\"attributes\":{},\"id\":\"1573\",\"type\":\"Selection\"},{\"attributes\":{},\"id\":\"1534\",\"type\":\"WheelZoomTool\"},{\"attributes\":{},\"id\":\"1552\",\"type\":\"Selection\"},{\"attributes\":{\"coordinates\":null,\"group\":null,\"text_color\":\"black\",\"text_font_size\":\"12pt\"},\"id\":\"1516\",\"type\":\"Title\"},{\"attributes\":{\"active_drag\":{\"id\":\"1533\"},\"active_scroll\":{\"id\":\"1534\"},\"tools\":[{\"id\":\"1512\"},{\"id\":\"1532\"},{\"id\":\"1533\"},{\"id\":\"1534\"},{\"id\":\"1535\"},{\"id\":\"1536\"}]},\"id\":\"1538\",\"type\":\"Toolbar\"},{\"attributes\":{\"source\":{\"id\":\"1594\"}},\"id\":\"1601\",\"type\":\"CDSView\"},{\"attributes\":{\"overlay\":{\"id\":\"1537\"}},\"id\":\"1535\",\"type\":\"BoxZoomTool\"},{\"attributes\":{\"coordinates\":null,\"data_source\":{\"id\":\"1572\"},\"glyph\":{\"id\":\"1575\"},\"group\":null,\"hover_glyph\":null,\"muted_glyph\":{\"id\":\"1577\"},\"nonselection_glyph\":{\"id\":\"1576\"},\"selection_glyph\":{\"id\":\"1593\"},\"view\":{\"id\":\"1579\"}},\"id\":\"1578\",\"type\":\"GlyphRenderer\"},{\"attributes\":{},\"id\":\"1520\",\"type\":\"LinearScale\"},{\"attributes\":{\"source\":{\"id\":\"1551\"}},\"id\":\"1558\",\"type\":\"CDSView\"},{\"attributes\":{\"fill_alpha\":{\"value\":0.1},\"fill_color\":{\"value\":\"#fc4f30\"},\"hatch_alpha\":{\"value\":0.1},\"hatch_color\":{\"value\":\"#fc4f30\"},\"line_alpha\":{\"value\":0.1},\"line_color\":{\"value\":\"#fc4f30\"},\"size\":{\"value\":5.477225575051661},\"x\":{\"field\":\"feature_1\"},\"y\":{\"field\":\"feature_2\"}},\"id\":\"1576\",\"type\":\"Scatter\"},{\"attributes\":{\"label\":{\"value\":\"2\"},\"renderers\":[{\"id\":\"1600\"}]},\"id\":\"1616\",\"type\":\"LegendItem\"},{\"attributes\":{\"end\":9.215602229847773,\"reset_end\":9.215602229847773,\"reset_start\":-5.909730475924883,\"start\":-5.909730475924883,\"tags\":[[[\"feature_2\",\"feature_2\",null]]]},\"id\":\"1511\",\"type\":\"Range1d\"},{\"attributes\":{\"children\":[{\"id\":\"1515\"}],\"height\":300,\"margin\":[0,0,0,0],\"name\":\"Row01412\",\"sizing_mode\":\"fixed\",\"tags\":[\"embedded\"],\"width\":700},\"id\":\"1509\",\"type\":\"Row\"},{\"attributes\":{},\"id\":\"1536\",\"type\":\"ResetTool\"},{\"attributes\":{},\"id\":\"1613\",\"type\":\"UnionRenderers\"},{\"attributes\":{\"callback\":null,\"renderers\":[{\"id\":\"1557\"},{\"id\":\"1578\"},{\"id\":\"1600\"}],\"tags\":[\"hv_created\"],\"tooltips\":[[\"birch-segments\",\"@{birch_hyphen_minus_segments}\"],[\"feature_1\",\"@{feature_1}\"],[\"feature_2\",\"@{feature_2}\"]]},\"id\":\"1512\",\"type\":\"HoverTool\"},{\"attributes\":{\"fill_alpha\":{\"value\":0.1},\"fill_color\":{\"value\":\"#e5ae38\"},\"hatch_alpha\":{\"value\":0.1},\"hatch_color\":{\"value\":\"#e5ae38\"},\"line_alpha\":{\"value\":0.1},\"line_color\":{\"value\":\"#e5ae38\"},\"size\":{\"value\":5.477225575051661},\"x\":{\"field\":\"feature_1\"},\"y\":{\"field\":\"feature_2\"}},\"id\":\"1598\",\"type\":\"Scatter\"},{\"attributes\":{\"bottom_units\":\"screen\",\"coordinates\":null,\"fill_alpha\":0.5,\"fill_color\":\"lightgrey\",\"group\":null,\"left_units\":\"screen\",\"level\":\"overlay\",\"line_alpha\":1.0,\"line_color\":\"black\",\"line_dash\":[4,4],\"line_width\":2,\"right_units\":\"screen\",\"syncable\":false,\"top_units\":\"screen\"},\"id\":\"1537\",\"type\":\"BoxAnnotation\"},{\"attributes\":{\"axis_label\":\"feature_1\",\"coordinates\":null,\"formatter\":{\"id\":\"1546\"},\"group\":null,\"major_label_policy\":{\"id\":\"1547\"},\"ticker\":{\"id\":\"1525\"}},\"id\":\"1524\",\"type\":\"LinearAxis\"},{\"attributes\":{\"label\":{\"value\":\"1\"},\"renderers\":[{\"id\":\"1578\"}]},\"id\":\"1592\",\"type\":\"LegendItem\"},{\"attributes\":{},\"id\":\"1522\",\"type\":\"LinearScale\"},{\"attributes\":{\"click_policy\":\"mute\",\"coordinates\":null,\"group\":null,\"items\":[{\"id\":\"1570\"},{\"id\":\"1592\"},{\"id\":\"1616\"}],\"location\":[0,0],\"title\":\"birch-segments\"},\"id\":\"1569\",\"type\":\"Legend\"},{\"attributes\":{\"fill_alpha\":{\"value\":0.2},\"fill_color\":{\"value\":\"#fc4f30\"},\"hatch_alpha\":{\"value\":0.2},\"hatch_color\":{\"value\":\"#fc4f30\"},\"line_alpha\":{\"value\":0.2},\"line_color\":{\"value\":\"#fc4f30\"},\"size\":{\"value\":5.477225575051661},\"x\":{\"field\":\"feature_1\"},\"y\":{\"field\":\"feature_2\"}},\"id\":\"1577\",\"type\":\"Scatter\"},{\"attributes\":{\"axis\":{\"id\":\"1528\"},\"coordinates\":null,\"dimension\":1,\"grid_line_color\":null,\"group\":null,\"ticker\":null},\"id\":\"1531\",\"type\":\"Grid\"},{\"attributes\":{\"fill_color\":{\"value\":\"#30a2da\"},\"hatch_color\":{\"value\":\"#30a2da\"},\"line_color\":{\"value\":\"#30a2da\"},\"size\":{\"value\":5.477225575051661},\"x\":{\"field\":\"feature_1\"},\"y\":{\"field\":\"feature_2\"}},\"id\":\"1554\",\"type\":\"Scatter\"},{\"attributes\":{\"source\":{\"id\":\"1572\"}},\"id\":\"1579\",\"type\":\"CDSView\"},{\"attributes\":{},\"id\":\"1525\",\"type\":\"BasicTicker\"},{\"attributes\":{\"data\":{\"birch_hyphen_minus_segments\":[0,0,0,0,0,0,0,0,0,0,0,0,0,0,0,0,0,0,0,0,0,0,0,0,0,0,0,0,0,0,0,0,0,0,0,0,0,0,0,0,0,0,0,0,0,0,0,0,0,0,0,0,0,0,0,0,0,0,0,0,0,0,0,0,0,0,0,0,0,0,0,0,0,0,0,0,0,0,0,0,0,0,0,0,0,0,0,0,0,0,0,0,0,0,0,0,0,0,0,0,0,0,0,0,0,0,0,0,0,0,0,0,0,0,0,0,0,0,0,0,0,0,0,0,0,0,0,0,0,0,0,0,0,0,0,0,0,0,0,0,0,0,0,0,0,0,0,0,0,0,0,0,0,0,0,0,0,0,0,0,0,0,0,0,0,0,0,0,0,0,0,0,0,0,0,0,0,0,0,0,0,0,0,0,0,0,0,0,0,0,0,0,0,0,0,0,0,0,0,0,0,0,0,0,0,0,0,0,0,0,0,0,0,0,0,0,0,0,0,0,0,0,0,0,0,0,0,0,0,0,0,0,0,0,0,0,0,0,0,0,0,0,0,0,0,0,0,0,0,0,0,0,0,0,0,0,0,0,0,0,0,0,0,0,0,0,0,0,0,0,0,0,0,0,0,0,0,0,0,0,0,0,0,0,0,0,0,0,0,0,0,0,0,0,0,0,0,0,0,0,0,0,0,0,0,0,0,0,0,0,0,0,0,0,0,0,0,0,0,0,0,0,0,0,0,0,0,0,0,0,0,0,0,0,0,0,0,0,0,0,0,0,0,0,0,0,0,0,0,0,0,0,0,0,0,0,0,0,0,0,0,0,0,0,0,0,0,0,0,0,0,0,0,0,0,0,0,0,0,0,0,0,0,0,0,0,0,0,0,0,0,0,0,0,0,0,0,0,0,0,0,0,0,0,0,0,0,0,0,0,0,0,0,0,0,0,0,0,0,0,0,0,0,0,0,0,0,0,0,0,0,0,0,0,0,0,0,0,0,0,0,0,0,0,0,0,0,0,0,0,0,0,0,0,0,0,0,0,0,0,0,0,0,0,0,0,0,0,0,0,0,0,0,0,0,0,0,0,0,0,0,0,0,0,0,0,0,0,0,0,0,0,0,0,0,0,0,0,0,0,0],\"feature_1\":{\"__ndarray__\":\"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\",\"dtype\":\"float64\",\"order\":\"little\",\"shape\":[501]},\"feature_2\":{\"__ndarray__\":\"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\",\"dtype\":\"float64\",\"order\":\"little\",\"shape\":[501]}},\"selected\":{\"id\":\"1552\"},\"selection_policy\":{\"id\":\"1566\"}},\"id\":\"1551\",\"type\":\"ColumnDataSource\"},{\"attributes\":{},\"id\":\"1546\",\"type\":\"BasicTickFormatter\"},{\"attributes\":{\"axis\":{\"id\":\"1524\"},\"coordinates\":null,\"grid_line_color\":null,\"group\":null,\"ticker\":null},\"id\":\"1527\",\"type\":\"Grid\"},{\"attributes\":{\"coordinates\":null,\"data_source\":{\"id\":\"1551\"},\"glyph\":{\"id\":\"1554\"},\"group\":null,\"hover_glyph\":null,\"muted_glyph\":{\"id\":\"1556\"},\"nonselection_glyph\":{\"id\":\"1555\"},\"selection_glyph\":{\"id\":\"1571\"},\"view\":{\"id\":\"1558\"}},\"id\":\"1557\",\"type\":\"GlyphRenderer\"},{\"attributes\":{},\"id\":\"1529\",\"type\":\"BasicTicker\"},{\"attributes\":{},\"id\":\"1589\",\"type\":\"UnionRenderers\"},{\"attributes\":{\"axis_label\":\"feature_2\",\"coordinates\":null,\"formatter\":{\"id\":\"1549\"},\"group\":null,\"major_label_policy\":{\"id\":\"1550\"},\"ticker\":{\"id\":\"1529\"}},\"id\":\"1528\",\"type\":\"LinearAxis\"}],\"root_ids\":[\"1509\"]},\"title\":\"Bokeh Application\",\"version\":\"2.4.3\"}};\n",
       "    var render_items = [{\"docid\":\"3e1de637-31c8-40e7-996e-1cf8bcc9c6ed\",\"root_ids\":[\"1509\"],\"roots\":{\"1509\":\"85fbdfb1-3d33-4f78-8504-0e4dfefad519\"}}];\n",
       "    root.Bokeh.embed.embed_items_notebook(docs_json, render_items);\n",
       "    for (const render_item of render_items) {\n",
       "      for (const root_id of render_item.root_ids) {\n",
       "\tconst id_el = document.getElementById(root_id)\n",
       "\tif (id_el.children.length && (id_el.children[0].className === 'bk-root')) {\n",
       "\t  const root_el = id_el.children[0]\n",
       "\t  root_el.id = root_el.id + '-rendered'\n",
       "\t}\n",
       "      }\n",
       "    }\n",
       "  }\n",
       "  if (root.Bokeh !== undefined && root.Bokeh.Panel !== undefined) {\n",
       "    embed_document(root);\n",
       "  } else {\n",
       "    var attempts = 0;\n",
       "    var timer = setInterval(function(root) {\n",
       "      if (root.Bokeh !== undefined && root.Bokeh.Panel !== undefined) {\n",
       "        clearInterval(timer);\n",
       "        embed_document(root);\n",
       "      } else if (document.readyState == \"complete\") {\n",
       "        attempts++;\n",
       "        if (attempts > 200) {\n",
       "          clearInterval(timer);\n",
       "          console.log(\"Bokeh: ERROR: Unable to run BokehJS code because BokehJS library is missing\");\n",
       "        }\n",
       "      }\n",
       "    }, 25, root)\n",
       "  }\n",
       "})(window);</script>"
      ],
      "text/plain": [
       ":NdOverlay   [birch-segments]\n",
       "   :Scatter   [feature_1]   (feature_2)"
      ]
     },
     "execution_count": 17,
     "metadata": {
      "application/vnd.holoviews_exec.v0+json": {
       "id": "1509"
      }
     },
     "output_type": "execute_result"
    }
   ],
   "source": [
    "# Plot the birch clusters using the \"feature_1\" and \"feature_2\" columns\n",
    "customers_predictions_df.hvplot.scatter(\n",
    "    x=\"feature_1\",\n",
    "    y=\"feature_2\",\n",
    "    by=\"birch-segments\"\n",
    ")"
   ]
  },
  {
   "cell_type": "code",
   "execution_count": 18,
   "metadata": {},
   "outputs": [
    {
     "data": {
      "text/html": [
       "<div>\n",
       "<style scoped>\n",
       "    .dataframe tbody tr th:only-of-type {\n",
       "        vertical-align: middle;\n",
       "    }\n",
       "\n",
       "    .dataframe tbody tr th {\n",
       "        vertical-align: top;\n",
       "    }\n",
       "\n",
       "    .dataframe thead th {\n",
       "        text-align: right;\n",
       "    }\n",
       "</style>\n",
       "<table border=\"1\" class=\"dataframe\">\n",
       "  <thead>\n",
       "    <tr style=\"text-align: right;\">\n",
       "      <th></th>\n",
       "      <th>kmeans-segments</th>\n",
       "      <th>agglomerative-segments</th>\n",
       "      <th>birch-segments</th>\n",
       "    </tr>\n",
       "  </thead>\n",
       "  <tbody>\n",
       "    <tr>\n",
       "      <th>kmeans-segments</th>\n",
       "      <td>1.000000</td>\n",
       "      <td>0.982562</td>\n",
       "      <td>0.302117</td>\n",
       "    </tr>\n",
       "    <tr>\n",
       "      <th>agglomerative-segments</th>\n",
       "      <td>0.982562</td>\n",
       "      <td>1.000000</td>\n",
       "      <td>0.308960</td>\n",
       "    </tr>\n",
       "    <tr>\n",
       "      <th>birch-segments</th>\n",
       "      <td>0.302117</td>\n",
       "      <td>0.308960</td>\n",
       "      <td>1.000000</td>\n",
       "    </tr>\n",
       "  </tbody>\n",
       "</table>\n",
       "</div>"
      ],
      "text/plain": [
       "                        kmeans-segments  agglomerative-segments  \\\n",
       "kmeans-segments                1.000000                0.982562   \n",
       "agglomerative-segments         0.982562                1.000000   \n",
       "birch-segments                 0.302117                0.308960   \n",
       "\n",
       "                        birch-segments  \n",
       "kmeans-segments               0.302117  \n",
       "agglomerative-segments        0.308960  \n",
       "birch-segments                1.000000  "
      ]
     },
     "execution_count": 18,
     "metadata": {},
     "output_type": "execute_result"
    }
   ],
   "source": [
    "customers_predictions_df[['kmeans-segments','agglomerative-segments', 'birch-segments']].corr()"
   ]
  },
  {
   "cell_type": "markdown",
   "metadata": {},
   "source": [
    "### Bonus"
   ]
  },
  {
   "cell_type": "code",
   "execution_count": 19,
   "metadata": {},
   "outputs": [
    {
     "data": {
      "text/plain": [
       "array([0, 1, 1, 0, 1, 1, 0, 0, 0, 1])"
      ]
     },
     "execution_count": 19,
     "metadata": {},
     "output_type": "execute_result"
    }
   ],
   "source": [
    "# Preview the predictions for one of the algorithms\n",
    "birch_predictions[0:10]"
   ]
  },
  {
   "cell_type": "code",
   "execution_count": 20,
   "metadata": {},
   "outputs": [
    {
     "data": {
      "text/plain": [
       "array([0, 1, 1, 0, 1, 1, 0, 0, 0, 1])"
      ]
     },
     "execution_count": 20,
     "metadata": {},
     "output_type": "execute_result"
    }
   ],
   "source": [
    "# Equivalently, preview the labels_ attribute for one of the algorithms\n",
    "birch_model.labels_[0:10]"
   ]
  },
  {
   "cell_type": "code",
   "execution_count": 21,
   "metadata": {},
   "outputs": [],
   "source": [
    "# Create a list to store values and the values of k\n",
    "score_kmeans = []\n",
    "score_agglomerative = []\n",
    "score_birch = []\n",
    "\n",
    "# Create a list to set the range of k values to test\n",
    "k = list(range(2, 11))"
   ]
  },
  {
   "cell_type": "code",
   "execution_count": 22,
   "metadata": {},
   "outputs": [],
   "source": [
    "from sklearn import metrics\n",
    "\n",
    "for i in k:\n",
    "    k_model = KMeans(n_clusters=i, random_state=0)\n",
    "    k_model.fit(customers_df)\n",
    "    labels = k_model.labels_\n",
    "    score = metrics.calinski_harabasz_score(customers_df, labels)    \n",
    "    score_kmeans.append(score)\n",
    "    \n",
    "    agglo_model = AgglomerativeClustering(n_clusters=i)\n",
    "    agglo_predictions = agglo_model.fit_predict(customers_df)\n",
    "    labels = agglo_model.labels_\n",
    "    score = metrics.calinski_harabasz_score(customers_df, labels)    \n",
    "    score_agglomerative.append(score)    \n",
    "    \n",
    "    birch_model = Birch(n_clusters=i)\n",
    "    birch_model.fit(customers_df)\n",
    "    labels = birch_model.labels_\n",
    "    score = metrics.calinski_harabasz_score(customers_df, labels)    \n",
    "    score_birch.append(score)"
   ]
  },
  {
   "cell_type": "code",
   "execution_count": 23,
   "metadata": {},
   "outputs": [
    {
     "data": {
      "text/plain": [
       "[803.7767901000836,\n",
       " 1197.233959136461,\n",
       " 963.5244943567245,\n",
       " 878.984431645905,\n",
       " 781.1913330352697,\n",
       " 722.008246754843,\n",
       " 678.3825232189985,\n",
       " 638.9870291772176,\n",
       " 603.5166505532344]"
      ]
     },
     "metadata": {},
     "output_type": "display_data"
    }
   ],
   "source": [
    "display(score_kmeans)"
   ]
  },
  {
   "cell_type": "code",
   "execution_count": 24,
   "metadata": {},
   "outputs": [
    {
     "data": {
      "text/plain": [
       "[793.1761769443771,\n",
       " 1173.3765904855773,\n",
       " 920.4304074355512,\n",
       " 783.1374540348882,\n",
       " 698.312451312524,\n",
       " 642.0342150282687,\n",
       " 609.5331449471877,\n",
       " 573.5727292902812,\n",
       " 542.4260224059782]"
      ]
     },
     "execution_count": 24,
     "metadata": {},
     "output_type": "execute_result"
    }
   ],
   "source": [
    "score_agglomerative"
   ]
  },
  {
   "cell_type": "code",
   "execution_count": 25,
   "metadata": {},
   "outputs": [
    {
     "data": {
      "text/plain": [
       "[792.7549736617844,\n",
       " 1172.1940395784056,\n",
       " 905.8303632361597,\n",
       " 807.3524405928957,\n",
       " 710.2991031558391,\n",
       " 650.134014299598,\n",
       " 601.7209094043105,\n",
       " 569.5499222834262,\n",
       " 533.4727554559031]"
      ]
     },
     "execution_count": 25,
     "metadata": {},
     "output_type": "execute_result"
    }
   ],
   "source": [
    "score_birch"
   ]
  },
  {
   "cell_type": "markdown",
   "metadata": {},
   "source": [
    "**Bonus Question:**If larger metric values indicate a better number of clusters, what cluster count is best? Does it vary by the algorithm selected?\n",
    "\n",
    ">**Sample Answer**: Based on each of the three lists, the highest value for each of the three algorithms appears to be at the two-cluster count. Based on this metric, two clusters would actually be sufficient to classify these customers, regardless of which of these three algorithms were used."
   ]
  },
  {
   "cell_type": "code",
   "execution_count": null,
   "metadata": {},
   "outputs": [],
   "source": []
  }
 ],
 "metadata": {
  "kernelspec": {
   "display_name": "Python 3 (ipykernel)",
   "language": "python",
   "name": "python3"
  },
  "language_info": {
   "codemirror_mode": {
    "name": "ipython",
    "version": 3
   },
   "file_extension": ".py",
   "mimetype": "text/x-python",
   "name": "python",
   "nbconvert_exporter": "python",
   "pygments_lexer": "ipython3",
   "version": "3.10.4"
  }
 },
 "nbformat": 4,
 "nbformat_minor": 4
}
